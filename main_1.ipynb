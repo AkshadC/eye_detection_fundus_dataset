{
 "cells": [
  {
   "cell_type": "code",
   "id": "initial_id",
   "metadata": {
    "collapsed": true,
    "ExecuteTime": {
     "end_time": "2024-07-29T20:45:14.361780Z",
     "start_time": "2024-07-29T20:45:14.359010Z"
    }
   },
   "source": [
    "import pandas as pd\n",
    "import tensorflow as tf\n",
    "import utils\n",
    "\n",
    "preprocess_input_nasnet = tf.keras.applications.nasnet.preprocess_input\n",
    "preprocess_input_resnet = tf.keras.applications.resnet.preprocess_input\n",
    "preprocess_input_xception = tf.keras.applications.xception.preprocess_input\n",
    "preprocess_input_effb7 = tf.keras.applications.efficientnet.preprocess_input\n",
    "preprocess_input_inceptionresnetv2 = tf.keras.applications.inception_resnet_v2.preprocess_input\n",
    "preprocess_input_mobilenetv2 = tf.keras.applications.mobilenet_v2.preprocess_input\n",
    "preprocess_input_mobilenetv3L = tf.keras.applications.mobilenet_v3.preprocess_input\n",
    "preprocess_input_resnetrs = tf.keras.applications.resnet_rs.preprocess_input"
   ],
   "outputs": [],
   "execution_count": 23
  },
  {
   "metadata": {
    "ExecuteTime": {
     "end_time": "2024-07-29T21:00:48.038974Z",
     "start_time": "2024-07-29T21:00:47.961802Z"
    }
   },
   "cell_type": "code",
   "source": [
    "fundus_train = \"/home/thefilthysalad/PycharmProjects/eye_detection_fundus_dataset/Dataset/split1/train\"\n",
    "fundus_test = \"/home/thefilthysalad/PycharmProjects/eye_detection_fundus_dataset/Dataset/split1/test\"\n",
    "\n",
    "\n",
    "BATCH_SIZE = 32\n",
    "IMG_HEIGHT, IMG_WIDTH = 224,224\n",
    "test_dataset = tf.keras.preprocessing.image_dataset_from_directory(\n",
    "    fundus_test,\n",
    "    labels='inferred',\n",
    "    label_mode='categorical',\n",
    "    batch_size=BATCH_SIZE,\n",
    "    image_size=(IMG_HEIGHT, IMG_WIDTH),\n",
    "    shuffle=False,\n",
    "    seed=123,\n",
    ")\n",
    "IMG_HEIGHT_x, IMG_WIDTH_x = 299,299\n",
    "test_dataset_xception = tf.keras.preprocessing.image_dataset_from_directory(\n",
    "    fundus_test,\n",
    "    labels='inferred',\n",
    "    label_mode='categorical',\n",
    "    batch_size=BATCH_SIZE,\n",
    "    image_size=(IMG_HEIGHT_x, IMG_WIDTH_x),\n",
    "    shuffle=False,\n",
    "    seed=123,\n",
    ")\n",
    "IMG_HEIGHT_mobilenet, IMG_WIDTH_mobilenet = 512,512\n",
    "test_dataset_mobilenet = tf.keras.preprocessing.image_dataset_from_directory(\n",
    "    fundus_test,\n",
    "    labels='inferred',\n",
    "    label_mode='categorical',\n",
    "    batch_size=BATCH_SIZE,\n",
    "    image_size=(IMG_HEIGHT_mobilenet, IMG_WIDTH_mobilenet),\n",
    "    shuffle=False,\n",
    "    seed=123,\n",
    ")"
   ],
   "id": "4ca8dd2222510ce0",
   "outputs": [
    {
     "name": "stdout",
     "output_type": "stream",
     "text": [
      "Found 845 files belonging to 4 classes.\n",
      "Found 845 files belonging to 4 classes.\n",
      "Found 845 files belonging to 4 classes.\n"
     ]
    }
   ],
   "execution_count": 65
  },
  {
   "metadata": {
    "ExecuteTime": {
     "end_time": "2024-07-29T21:00:49.284890Z",
     "start_time": "2024-07-29T21:00:49.255197Z"
    }
   },
   "cell_type": "code",
   "source": [
    "test_datagen_nasnet = test_dataset.map(lambda x, y: (preprocess_input_nasnet(x), y))\n",
    "test_datagen_resnet = test_dataset.map(lambda x, y: (preprocess_input_resnet(x), y))\n",
    "test_datagen_xception = test_dataset_xception.map(lambda x, y: (preprocess_input_xception(x), y))\n",
    "test_datagen_effb7 = test_dataset.map(lambda x, y: (preprocess_input_effb7(x), y))\n",
    "test_datagen_inceptionresnetv2 = test_dataset_xception.map(lambda x, y: (preprocess_input_inceptionresnetv2(x), y))\n",
    "test_datagen_mobilenetv2 = test_dataset_mobilenet.map(lambda x, y: (preprocess_input_mobilenetv2(x), y))\n",
    "test_datagen_mobilenetv3L = test_dataset.map(lambda x, y: (preprocess_input_mobilenetv3L(x), y))\n",
    "test_datagen_resnetrs = test_dataset.map(lambda x, y: (preprocess_input_resnetrs(x), y))\n"
   ],
   "id": "2f653276cb6234e8",
   "outputs": [],
   "execution_count": 66
  },
  {
   "metadata": {
    "ExecuteTime": {
     "end_time": "2024-07-29T20:55:27.222584Z",
     "start_time": "2024-07-29T20:55:26.888373Z"
    }
   },
   "cell_type": "code",
   "source": [
    "true_y_labels = []\n",
    "for images, labels in test_datagen_nasnet.unbatch():\n",
    "    true_y_labels.append(labels.numpy().argmax())"
   ],
   "id": "ad56743e150d4338",
   "outputs": [],
   "execution_count": 48
  },
  {
   "metadata": {
    "ExecuteTime": {
     "end_time": "2024-07-29T20:46:33.040440Z",
     "start_time": "2024-07-29T20:46:21.078849Z"
    }
   },
   "cell_type": "code",
   "source": [
    "nasnet_mobile =  tf.keras.models.load_model(\"/home/thefilthysalad/PycharmProjects/eye_detection_fundus_dataset/ML_Models/Trained_Models/Nasnet_88.99\")\n",
    "nasnet_mobile.evaluate(test_datagen_nasnet)"
   ],
   "id": "40bc164f56f8320b",
   "outputs": [],
   "execution_count": 30
  },
  {
   "metadata": {
    "ExecuteTime": {
     "end_time": "2024-07-29T20:56:19.389118Z",
     "start_time": "2024-07-29T20:56:18.459429Z"
    }
   },
   "cell_type": "code",
   "source": [
    "nasnet_preds = nasnet_mobile.predict(test_datagen_nasnet)\n",
    "nasnet_preds = nasnet_preds.argmax(axis=1)"
   ],
   "id": "a1ef6c276854dd6e",
   "outputs": [
    {
     "name": "stdout",
     "output_type": "stream",
     "text": [
      "27/27 [==============================] - 1s 31ms/step\n"
     ]
    },
    {
     "data": {
      "text/plain": [
       "array([3, 0, 3, 0, 3, 0, 3, 0, 3, 0, 0, 0, 0, 3, 3, 0, 0, 0, 0, 0, 0, 0,\n",
       "       0, 0, 0, 0, 0, 0, 0, 0, 0, 0, 0, 0, 3, 0, 0, 0, 0, 0, 0, 0, 0, 0,\n",
       "       0, 0, 0, 3, 0, 0, 0, 3, 0, 0, 0, 3, 0, 0, 0, 0, 0, 0, 0, 0, 0, 0,\n",
       "       0, 0, 0, 0, 0, 0, 0, 0, 0, 0, 0, 0, 0, 0, 0, 0, 0, 0, 0, 0, 0, 0,\n",
       "       0, 0, 0, 0, 0, 0, 0, 0, 0, 0, 0, 0, 0, 0, 0, 0, 0, 0, 0, 0, 0, 0,\n",
       "       0, 0, 2, 0, 0, 0, 0, 0, 0, 0, 0, 0, 0, 0, 0, 0, 0, 0, 0, 2, 2, 0,\n",
       "       0, 0, 0, 0, 0, 0, 0, 0, 0, 2, 0, 0, 0, 0, 0, 0, 0, 0, 0, 0, 0, 0,\n",
       "       0, 0, 0, 0, 0, 0, 0, 0, 0, 0, 0, 0, 0, 0, 0, 0, 0, 0, 0, 0, 0, 0,\n",
       "       0, 0, 0, 0, 0, 0, 0, 0, 0, 0, 0, 0, 0, 0, 0, 0, 0, 2, 2, 0, 0, 0,\n",
       "       0, 0, 0, 0, 0, 0, 0, 0, 0, 0, 1, 1, 1, 1, 1, 1, 1, 1, 1, 1, 1, 1,\n",
       "       1, 1, 1, 1, 1, 1, 1, 1, 1, 1, 1, 1, 1, 1, 1, 1, 1, 1, 1, 1, 1, 1,\n",
       "       1, 1, 1, 1, 1, 1, 1, 1, 1, 1, 1, 1, 1, 1, 1, 1, 1, 1, 1, 1, 1, 1,\n",
       "       1, 1, 1, 1, 1, 1, 1, 1, 1, 1, 1, 1, 1, 1, 1, 1, 1, 1, 1, 1, 1, 1,\n",
       "       1, 1, 1, 1, 1, 1, 1, 1, 1, 1, 1, 1, 1, 1, 1, 1, 1, 1, 1, 1, 1, 1,\n",
       "       1, 1, 1, 1, 1, 1, 1, 1, 1, 1, 1, 1, 1, 1, 1, 1, 1, 1, 1, 1, 1, 1,\n",
       "       1, 1, 1, 1, 1, 1, 1, 1, 1, 1, 1, 1, 1, 1, 1, 1, 1, 1, 1, 1, 1, 3,\n",
       "       1, 1, 1, 1, 1, 1, 1, 1, 1, 1, 1, 1, 1, 1, 1, 1, 1, 1, 1, 1, 1, 1,\n",
       "       1, 1, 1, 1, 1, 1, 1, 1, 1, 1, 1, 1, 1, 1, 1, 1, 1, 1, 1, 1, 1, 1,\n",
       "       1, 1, 1, 1, 1, 1, 1, 1, 1, 1, 1, 1, 1, 1, 1, 1, 1, 1, 1, 1, 1, 1,\n",
       "       1, 1, 1, 1, 1, 1, 1, 1, 1, 1, 2, 2, 2, 2, 3, 3, 0, 1, 3, 3, 3, 3,\n",
       "       1, 2, 3, 2, 3, 3, 3, 3, 2, 3, 3, 3, 2, 3, 3, 2, 3, 0, 3, 3, 2, 3,\n",
       "       2, 2, 2, 3, 3, 3, 3, 2, 3, 3, 2, 3, 3, 3, 3, 2, 3, 2, 3, 3, 0, 3,\n",
       "       3, 3, 3, 2, 3, 2, 3, 3, 3, 3, 0, 2, 2, 2, 2, 2, 2, 2, 2, 2, 2, 0,\n",
       "       2, 2, 2, 2, 2, 2, 2, 2, 0, 2, 2, 2, 2, 2, 2, 2, 2, 2, 2, 2, 2, 2,\n",
       "       0, 2, 0, 0, 2, 2, 0, 2, 2, 2, 2, 2, 2, 2, 2, 2, 2, 2, 2, 2, 2, 2,\n",
       "       2, 2, 2, 2, 2, 2, 2, 2, 2, 2, 2, 2, 2, 2, 2, 2, 2, 2, 2, 0, 2, 2,\n",
       "       2, 2, 2, 2, 2, 2, 2, 2, 2, 2, 2, 2, 2, 2, 2, 2, 2, 2, 2, 2, 2, 2,\n",
       "       0, 0, 2, 2, 2, 2, 2, 0, 2, 0, 2, 2, 2, 2, 2, 2, 2, 2, 2, 2, 0, 2,\n",
       "       2, 2, 2, 2, 2, 2, 2, 2, 2, 2, 2, 2, 2, 2, 3, 3, 3, 3, 3, 3, 3, 3,\n",
       "       3, 3, 3, 3, 3, 3, 3, 3, 3, 2, 3, 3, 3, 3, 3, 3, 3, 3, 3, 3, 3, 3,\n",
       "       3, 3, 3, 3, 3, 3, 3, 3, 3, 3, 3, 3, 3, 3, 3, 3, 3, 3, 3, 3, 3, 3,\n",
       "       3, 3, 3, 3, 3, 3, 3, 3, 3, 3, 3, 3, 3, 3, 3, 3, 0, 3, 2, 3, 3, 3,\n",
       "       3, 3, 3, 3, 3, 3, 3, 3, 3, 3, 2, 3, 3, 3, 3, 3, 3, 3, 3, 3, 3, 3,\n",
       "       3, 0, 3, 3, 3, 3, 2, 3, 3, 3, 3, 3, 3, 3, 3, 3, 3, 3, 3, 3, 3, 3,\n",
       "       3, 3, 3, 3, 1, 3, 3, 3, 3, 3, 0, 3, 3, 3, 3, 3, 3, 3, 3, 3, 3, 3,\n",
       "       3, 3, 3, 3, 2, 3, 3, 3, 3, 2, 3, 3, 3, 3, 3, 3, 3, 3, 3, 3, 3, 3,\n",
       "       3, 3, 3, 3, 3, 3, 3, 3, 3, 3, 3, 3, 3, 3, 3, 3, 3, 0, 3, 3, 3, 3,\n",
       "       2, 3, 3, 3, 3, 3, 1, 3, 3, 3, 3, 3, 3, 3, 3, 3, 3, 3, 3, 3, 3, 3,\n",
       "       3, 2, 3, 3, 3, 3, 3, 2, 3])"
      ]
     },
     "execution_count": 50,
     "metadata": {},
     "output_type": "execute_result"
    }
   ],
   "execution_count": 50
  },
  {
   "metadata": {
    "ExecuteTime": {
     "end_time": "2024-07-29T20:56:52.800427Z",
     "start_time": "2024-07-29T20:56:52.798509Z"
    }
   },
   "cell_type": "code",
   "source": "nasnet_preds = pd.DataFrame(nasnet_preds)",
   "id": "9a1a1cb8ef6fbaa",
   "outputs": [],
   "execution_count": 51
  },
  {
   "metadata": {
    "ExecuteTime": {
     "end_time": "2024-07-29T20:48:17.397101Z",
     "start_time": "2024-07-29T20:47:55.518525Z"
    }
   },
   "cell_type": "code",
   "source": [
    "effb7_mobile =  tf.keras.models.load_model(\"/home/thefilthysalad/PycharmProjects/eye_detection_fundus_dataset/ML_Models/Trained_Models/CompletedModels/EfficientB7_90.49\")\n",
    "effb7_mobile.evaluate(test_datagen_effb7)"
   ],
   "id": "72d0972a2f0abb70",
   "outputs": [
    {
     "name": "stdout",
     "output_type": "stream",
     "text": [
      "27/27 [==============================] - 6s 132ms/step - loss: 0.3847 - accuracy: 0.9041\n"
     ]
    },
    {
     "data": {
      "text/plain": [
       "[0.3847275972366333, 0.9041420221328735]"
      ]
     },
     "execution_count": 35,
     "metadata": {},
     "output_type": "execute_result"
    }
   ],
   "execution_count": 35
  },
  {
   "metadata": {
    "ExecuteTime": {
     "end_time": "2024-07-29T20:57:25.789470Z",
     "start_time": "2024-07-29T20:57:22.334263Z"
    }
   },
   "cell_type": "code",
   "source": [
    "effb7_preds = effb7_mobile.predict(test_datagen_effb7)\n",
    "effb7_preds = pd.DataFrame(effb7_preds.argmax(axis=1))"
   ],
   "id": "4ea85e7df1cf5bac",
   "outputs": [
    {
     "name": "stdout",
     "output_type": "stream",
     "text": [
      "27/27 [==============================] - 3s 128ms/step\n"
     ]
    }
   ],
   "execution_count": 54
  },
  {
   "metadata": {
    "ExecuteTime": {
     "end_time": "2024-07-29T20:58:55.634172Z",
     "start_time": "2024-07-29T20:58:37.881809Z"
    }
   },
   "cell_type": "code",
   "source": [
    "inception_resnet_v2 =  tf.keras.models.load_model(\"/home/thefilthysalad/PycharmProjects/eye_detection_fundus_dataset/ML_Models/Trained_Models/CompletedModels/InceptionResnetV2_90.65\")\n",
    "inception_resnet_v2.evaluate(test_datagen_inceptionresnetv2)"
   ],
   "id": "bedb8743e7b015e2",
   "outputs": [
    {
     "name": "stdout",
     "output_type": "stream",
     "text": [
      "27/27 [==============================] - 5s 98ms/step - loss: 0.4096 - accuracy: 0.9065\n"
     ]
    },
    {
     "data": {
      "text/plain": [
       "[0.4095657169818878, 0.9065088629722595]"
      ]
     },
     "execution_count": 58,
     "metadata": {},
     "output_type": "execute_result"
    }
   ],
   "execution_count": 58
  },
  {
   "metadata": {
    "ExecuteTime": {
     "end_time": "2024-07-29T20:59:21.328575Z",
     "start_time": "2024-07-29T20:59:17.911535Z"
    }
   },
   "cell_type": "code",
   "source": "inception_resnet_v2_preds = pd.DataFrame(inception_resnet_v2.predict(test_datagen_inceptionresnetv2).argmax(axis=1))",
   "id": "f9e68f2f7a37ec43",
   "outputs": [
    {
     "name": "stdout",
     "output_type": "stream",
     "text": [
      "27/27 [==============================] - 3s 76ms/step\n"
     ]
    }
   ],
   "execution_count": 59
  },
  {
   "metadata": {
    "ExecuteTime": {
     "end_time": "2024-07-29T21:00:58.534227Z",
     "start_time": "2024-07-29T21:00:52.137584Z"
    }
   },
   "cell_type": "code",
   "source": [
    "mobilenetV2 =  tf.keras.models.load_model(\"/home/thefilthysalad/PycharmProjects/eye_detection_fundus_dataset/ML_Models/Trained_Models/CompletedModels/Mobilenetv2_88\")\n",
    "mobilenetV2.evaluate(test_datagen_mobilenetv2)"
   ],
   "id": "5fcc2e67dc040d41",
   "outputs": [
    {
     "name": "stdout",
     "output_type": "stream",
     "text": [
      "27/27 [==============================] - 4s 97ms/step - loss: 0.3032 - accuracy: 0.8793\n"
     ]
    },
    {
     "data": {
      "text/plain": [
       "[0.3031553030014038, 0.8792899250984192]"
      ]
     },
     "execution_count": 67,
     "metadata": {},
     "output_type": "execute_result"
    }
   ],
   "execution_count": 67
  },
  {
   "metadata": {
    "ExecuteTime": {
     "end_time": "2024-07-29T21:01:22.140221Z",
     "start_time": "2024-07-29T21:01:19.247236Z"
    }
   },
   "cell_type": "code",
   "source": "mobilenetV2_preds = pd.DataFrame(mobilenetV2.predict(test_datagen_mobilenetv2).argmax(axis=1))",
   "id": "3711088356fab228",
   "outputs": [
    {
     "name": "stdout",
     "output_type": "stream",
     "text": [
      "27/27 [==============================] - 3s 91ms/step\n"
     ]
    }
   ],
   "execution_count": 68
  },
  {
   "metadata": {
    "ExecuteTime": {
     "end_time": "2024-07-29T21:02:15.172196Z",
     "start_time": "2024-07-29T21:02:06.662216Z"
    }
   },
   "cell_type": "code",
   "source": [
    "mobilenet_v3L =  tf.keras.models.load_model(\"/home/thefilthysalad/PycharmProjects/eye_detection_fundus_dataset/ML_Models/Trained_Models/CompletedModels/MobilenetV3L_87.7\")\n",
    "mobilenet_v3L.evaluate(test_datagen_mobilenetv3L)"
   ],
   "id": "bfc5e2cce795c5cb",
   "outputs": [
    {
     "name": "stdout",
     "output_type": "stream",
     "text": [
      "27/27 [==============================] - 1s 23ms/step - loss: 0.3689 - accuracy: 0.8769\n"
     ]
    },
    {
     "data": {
      "text/plain": [
       "[0.36894628405570984, 0.8769230842590332]"
      ]
     },
     "execution_count": 69,
     "metadata": {},
     "output_type": "execute_result"
    }
   ],
   "execution_count": 69
  },
  {
   "metadata": {
    "ExecuteTime": {
     "end_time": "2024-07-29T21:02:44.235515Z",
     "start_time": "2024-07-29T21:02:43.362393Z"
    }
   },
   "cell_type": "code",
   "source": "mobilenetV3L_preds = pd.DataFrame(mobilenet_v3L.predict(test_datagen_mobilenetv3L).argmax(axis=1))",
   "id": "c57222e1836e51cb",
   "outputs": [
    {
     "name": "stdout",
     "output_type": "stream",
     "text": [
      "27/27 [==============================] - 1s 16ms/step\n"
     ]
    }
   ],
   "execution_count": 70
  },
  {
   "metadata": {
    "ExecuteTime": {
     "end_time": "2024-07-29T21:04:27.110699Z",
     "start_time": "2024-07-29T21:04:01.644790Z"
    }
   },
   "cell_type": "code",
   "source": [
    "resnet50 =  tf.keras.models.load_model(\"/home/thefilthysalad/PycharmProjects/eye_detection_fundus_dataset/ML_Models/Trained_Models/CompletedModels/Resnet_50_90\")\n",
    "resnet152 =  tf.keras.models.load_model(\"/home/thefilthysalad/PycharmProjects/eye_detection_fundus_dataset/ML_Models/Trained_Models/CompletedModels/Resnet_152_88\")\n",
    "resnet_rs =  tf.keras.models.load_model(\"/home/thefilthysalad/PycharmProjects/eye_detection_fundus_dataset/ML_Models/Trained_Models/CompletedModels/Resnet_rs_101_87\")\n",
    "xception =  tf.keras.models.load_model(\"/home/thefilthysalad/PycharmProjects/eye_detection_fundus_dataset/ML_Models/Trained_Models/CompletedModels/Xception_new_90.41\")\n"
   ],
   "id": "4df4d0d8fd371c34",
   "outputs": [],
   "execution_count": 71
  },
  {
   "metadata": {
    "ExecuteTime": {
     "end_time": "2024-07-29T21:05:30.533797Z",
     "start_time": "2024-07-29T21:05:19.165828Z"
    }
   },
   "cell_type": "code",
   "source": [
    "resnet50_preds = pd.DataFrame(resnet50.predict(test_datagen_resnet).argmax(axis=1))\n",
    "resnet152_preds = pd.DataFrame(resnet152.predict(test_datagen_resnet).argmax(axis=1))\n",
    "resnet_rs_preds = pd.DataFrame(resnet_rs.predict(test_datagen_resnetrs).argmax(axis=1))\n",
    "xception_preds = pd.DataFrame(xception.predict(test_datagen_xception).argmax(axis=1))"
   ],
   "id": "9158a475ffe466fa",
   "outputs": [
    {
     "name": "stdout",
     "output_type": "stream",
     "text": [
      "27/27 [==============================] - 2s 42ms/step\n",
      "27/27 [==============================] - 3s 67ms/step\n",
      "27/27 [==============================] - 3s 68ms/step\n",
      "27/27 [==============================] - 3s 75ms/step\n"
     ]
    }
   ],
   "execution_count": 72
  },
  {
   "metadata": {
    "ExecuteTime": {
     "end_time": "2024-07-29T21:10:46.044285Z",
     "start_time": "2024-07-29T21:10:46.037279Z"
    }
   },
   "cell_type": "code",
   "source": [
    "all_model_results = pd.DataFrame()\n",
    "all_model_results[\"Efficient_Net_B7\"] = effb7_preds\n",
    "all_model_results[\"Inception_Resnet_V2\"] = inception_resnet_v2_preds\n",
    "all_model_results[\"Mobilenet_V2\"] = mobilenetV2_preds\n",
    "all_model_results[\"Mobilenet_V3_Large\"] = mobilenetV3L_preds\n",
    "all_model_results[\"Inception_Resnet50\"] = resnet50_preds\n",
    "all_model_results[\"Inception_Resnet152\"] = resnet152_preds\n",
    "all_model_results[\"Inception_ResnetRs\"] = resnet_rs_preds\n",
    "all_model_results[\"XceptionNet\"] = xception_preds\n",
    "all_model_results[\"NasnetMobile\"] = nasnet_preds\n",
    "all_model_results"
   ],
   "id": "703b82ba5d5b5502",
   "outputs": [
    {
     "data": {
      "text/plain": [
       "     Efficient_Net_B7  Inception_Resnet_V2  Mobilenet_V2  Mobilenet_V3_Large  \\\n",
       "0                   0                    3             0                   0   \n",
       "1                   0                    0             0                   0   \n",
       "2                   3                    3             3                   3   \n",
       "3                   0                    0             0                   0   \n",
       "4                   3                    2             3                   3   \n",
       "..                ...                  ...           ...                 ...   \n",
       "840                 3                    3             3                   3   \n",
       "841                 3                    3             3                   3   \n",
       "842                 3                    3             3                   3   \n",
       "843                 3                    3             3                   3   \n",
       "844                 3                    3             3                   3   \n",
       "\n",
       "     Inception_Resnet50  Inception_Resnet152  Inception_ResnetRs  XceptionNet  \\\n",
       "0                     0                    0                   0            0   \n",
       "1                     0                    0                   0            0   \n",
       "2                     3                    3                   3            0   \n",
       "3                     0                    0                   0            0   \n",
       "4                     3                    0                   0            0   \n",
       "..                  ...                  ...                 ...          ...   \n",
       "840                   3                    3                   3            0   \n",
       "841                   3                    3                   3            0   \n",
       "842                   3                    3                   3            0   \n",
       "843                   3                    3                   3            0   \n",
       "844                   3                    3                   3            0   \n",
       "\n",
       "     NasnetMobile  \n",
       "0               3  \n",
       "1               0  \n",
       "2               3  \n",
       "3               0  \n",
       "4               3  \n",
       "..            ...  \n",
       "840             3  \n",
       "841             3  \n",
       "842             3  \n",
       "843             2  \n",
       "844             3  \n",
       "\n",
       "[845 rows x 9 columns]"
      ],
      "text/html": [
       "<div>\n",
       "<style scoped>\n",
       "    .dataframe tbody tr th:only-of-type {\n",
       "        vertical-align: middle;\n",
       "    }\n",
       "\n",
       "    .dataframe tbody tr th {\n",
       "        vertical-align: top;\n",
       "    }\n",
       "\n",
       "    .dataframe thead th {\n",
       "        text-align: right;\n",
       "    }\n",
       "</style>\n",
       "<table border=\"1\" class=\"dataframe\">\n",
       "  <thead>\n",
       "    <tr style=\"text-align: right;\">\n",
       "      <th></th>\n",
       "      <th>Efficient_Net_B7</th>\n",
       "      <th>Inception_Resnet_V2</th>\n",
       "      <th>Mobilenet_V2</th>\n",
       "      <th>Mobilenet_V3_Large</th>\n",
       "      <th>Inception_Resnet50</th>\n",
       "      <th>Inception_Resnet152</th>\n",
       "      <th>Inception_ResnetRs</th>\n",
       "      <th>XceptionNet</th>\n",
       "      <th>NasnetMobile</th>\n",
       "    </tr>\n",
       "  </thead>\n",
       "  <tbody>\n",
       "    <tr>\n",
       "      <th>0</th>\n",
       "      <td>0</td>\n",
       "      <td>3</td>\n",
       "      <td>0</td>\n",
       "      <td>0</td>\n",
       "      <td>0</td>\n",
       "      <td>0</td>\n",
       "      <td>0</td>\n",
       "      <td>0</td>\n",
       "      <td>3</td>\n",
       "    </tr>\n",
       "    <tr>\n",
       "      <th>1</th>\n",
       "      <td>0</td>\n",
       "      <td>0</td>\n",
       "      <td>0</td>\n",
       "      <td>0</td>\n",
       "      <td>0</td>\n",
       "      <td>0</td>\n",
       "      <td>0</td>\n",
       "      <td>0</td>\n",
       "      <td>0</td>\n",
       "    </tr>\n",
       "    <tr>\n",
       "      <th>2</th>\n",
       "      <td>3</td>\n",
       "      <td>3</td>\n",
       "      <td>3</td>\n",
       "      <td>3</td>\n",
       "      <td>3</td>\n",
       "      <td>3</td>\n",
       "      <td>3</td>\n",
       "      <td>0</td>\n",
       "      <td>3</td>\n",
       "    </tr>\n",
       "    <tr>\n",
       "      <th>3</th>\n",
       "      <td>0</td>\n",
       "      <td>0</td>\n",
       "      <td>0</td>\n",
       "      <td>0</td>\n",
       "      <td>0</td>\n",
       "      <td>0</td>\n",
       "      <td>0</td>\n",
       "      <td>0</td>\n",
       "      <td>0</td>\n",
       "    </tr>\n",
       "    <tr>\n",
       "      <th>4</th>\n",
       "      <td>3</td>\n",
       "      <td>2</td>\n",
       "      <td>3</td>\n",
       "      <td>3</td>\n",
       "      <td>3</td>\n",
       "      <td>0</td>\n",
       "      <td>0</td>\n",
       "      <td>0</td>\n",
       "      <td>3</td>\n",
       "    </tr>\n",
       "    <tr>\n",
       "      <th>...</th>\n",
       "      <td>...</td>\n",
       "      <td>...</td>\n",
       "      <td>...</td>\n",
       "      <td>...</td>\n",
       "      <td>...</td>\n",
       "      <td>...</td>\n",
       "      <td>...</td>\n",
       "      <td>...</td>\n",
       "      <td>...</td>\n",
       "    </tr>\n",
       "    <tr>\n",
       "      <th>840</th>\n",
       "      <td>3</td>\n",
       "      <td>3</td>\n",
       "      <td>3</td>\n",
       "      <td>3</td>\n",
       "      <td>3</td>\n",
       "      <td>3</td>\n",
       "      <td>3</td>\n",
       "      <td>0</td>\n",
       "      <td>3</td>\n",
       "    </tr>\n",
       "    <tr>\n",
       "      <th>841</th>\n",
       "      <td>3</td>\n",
       "      <td>3</td>\n",
       "      <td>3</td>\n",
       "      <td>3</td>\n",
       "      <td>3</td>\n",
       "      <td>3</td>\n",
       "      <td>3</td>\n",
       "      <td>0</td>\n",
       "      <td>3</td>\n",
       "    </tr>\n",
       "    <tr>\n",
       "      <th>842</th>\n",
       "      <td>3</td>\n",
       "      <td>3</td>\n",
       "      <td>3</td>\n",
       "      <td>3</td>\n",
       "      <td>3</td>\n",
       "      <td>3</td>\n",
       "      <td>3</td>\n",
       "      <td>0</td>\n",
       "      <td>3</td>\n",
       "    </tr>\n",
       "    <tr>\n",
       "      <th>843</th>\n",
       "      <td>3</td>\n",
       "      <td>3</td>\n",
       "      <td>3</td>\n",
       "      <td>3</td>\n",
       "      <td>3</td>\n",
       "      <td>3</td>\n",
       "      <td>3</td>\n",
       "      <td>0</td>\n",
       "      <td>2</td>\n",
       "    </tr>\n",
       "    <tr>\n",
       "      <th>844</th>\n",
       "      <td>3</td>\n",
       "      <td>3</td>\n",
       "      <td>3</td>\n",
       "      <td>3</td>\n",
       "      <td>3</td>\n",
       "      <td>3</td>\n",
       "      <td>3</td>\n",
       "      <td>0</td>\n",
       "      <td>3</td>\n",
       "    </tr>\n",
       "  </tbody>\n",
       "</table>\n",
       "<p>845 rows × 9 columns</p>\n",
       "</div>"
      ]
     },
     "execution_count": 82,
     "metadata": {},
     "output_type": "execute_result"
    }
   ],
   "execution_count": 82
  },
  {
   "metadata": {
    "ExecuteTime": {
     "end_time": "2024-07-29T21:11:31.935349Z",
     "start_time": "2024-07-29T21:11:31.928980Z"
    }
   },
   "cell_type": "code",
   "source": [
    "all_model_results[\"True_Preds\"] = pd.DataFrame(true_y_labels)\n",
    "all_model_results"
   ],
   "id": "bc23d55cc2d163ad",
   "outputs": [
    {
     "data": {
      "text/plain": [
       "     Efficient_Net_B7  Inception_Resnet_V2  Mobilenet_V2  Mobilenet_V3_Large  \\\n",
       "0                   0                    3             0                   0   \n",
       "1                   0                    0             0                   0   \n",
       "2                   3                    3             3                   3   \n",
       "3                   0                    0             0                   0   \n",
       "4                   3                    2             3                   3   \n",
       "..                ...                  ...           ...                 ...   \n",
       "840                 3                    3             3                   3   \n",
       "841                 3                    3             3                   3   \n",
       "842                 3                    3             3                   3   \n",
       "843                 3                    3             3                   3   \n",
       "844                 3                    3             3                   3   \n",
       "\n",
       "     Inception_Resnet50  Inception_Resnet152  Inception_ResnetRs  XceptionNet  \\\n",
       "0                     0                    0                   0            0   \n",
       "1                     0                    0                   0            0   \n",
       "2                     3                    3                   3            0   \n",
       "3                     0                    0                   0            0   \n",
       "4                     3                    0                   0            0   \n",
       "..                  ...                  ...                 ...          ...   \n",
       "840                   3                    3                   3            0   \n",
       "841                   3                    3                   3            0   \n",
       "842                   3                    3                   3            0   \n",
       "843                   3                    3                   3            0   \n",
       "844                   3                    3                   3            0   \n",
       "\n",
       "     NasnetMobile  True_Preds  \n",
       "0               3           0  \n",
       "1               0           0  \n",
       "2               3           0  \n",
       "3               0           0  \n",
       "4               3           0  \n",
       "..            ...         ...  \n",
       "840             3           3  \n",
       "841             3           3  \n",
       "842             3           3  \n",
       "843             2           3  \n",
       "844             3           3  \n",
       "\n",
       "[845 rows x 10 columns]"
      ],
      "text/html": [
       "<div>\n",
       "<style scoped>\n",
       "    .dataframe tbody tr th:only-of-type {\n",
       "        vertical-align: middle;\n",
       "    }\n",
       "\n",
       "    .dataframe tbody tr th {\n",
       "        vertical-align: top;\n",
       "    }\n",
       "\n",
       "    .dataframe thead th {\n",
       "        text-align: right;\n",
       "    }\n",
       "</style>\n",
       "<table border=\"1\" class=\"dataframe\">\n",
       "  <thead>\n",
       "    <tr style=\"text-align: right;\">\n",
       "      <th></th>\n",
       "      <th>Efficient_Net_B7</th>\n",
       "      <th>Inception_Resnet_V2</th>\n",
       "      <th>Mobilenet_V2</th>\n",
       "      <th>Mobilenet_V3_Large</th>\n",
       "      <th>Inception_Resnet50</th>\n",
       "      <th>Inception_Resnet152</th>\n",
       "      <th>Inception_ResnetRs</th>\n",
       "      <th>XceptionNet</th>\n",
       "      <th>NasnetMobile</th>\n",
       "      <th>True_Preds</th>\n",
       "    </tr>\n",
       "  </thead>\n",
       "  <tbody>\n",
       "    <tr>\n",
       "      <th>0</th>\n",
       "      <td>0</td>\n",
       "      <td>3</td>\n",
       "      <td>0</td>\n",
       "      <td>0</td>\n",
       "      <td>0</td>\n",
       "      <td>0</td>\n",
       "      <td>0</td>\n",
       "      <td>0</td>\n",
       "      <td>3</td>\n",
       "      <td>0</td>\n",
       "    </tr>\n",
       "    <tr>\n",
       "      <th>1</th>\n",
       "      <td>0</td>\n",
       "      <td>0</td>\n",
       "      <td>0</td>\n",
       "      <td>0</td>\n",
       "      <td>0</td>\n",
       "      <td>0</td>\n",
       "      <td>0</td>\n",
       "      <td>0</td>\n",
       "      <td>0</td>\n",
       "      <td>0</td>\n",
       "    </tr>\n",
       "    <tr>\n",
       "      <th>2</th>\n",
       "      <td>3</td>\n",
       "      <td>3</td>\n",
       "      <td>3</td>\n",
       "      <td>3</td>\n",
       "      <td>3</td>\n",
       "      <td>3</td>\n",
       "      <td>3</td>\n",
       "      <td>0</td>\n",
       "      <td>3</td>\n",
       "      <td>0</td>\n",
       "    </tr>\n",
       "    <tr>\n",
       "      <th>3</th>\n",
       "      <td>0</td>\n",
       "      <td>0</td>\n",
       "      <td>0</td>\n",
       "      <td>0</td>\n",
       "      <td>0</td>\n",
       "      <td>0</td>\n",
       "      <td>0</td>\n",
       "      <td>0</td>\n",
       "      <td>0</td>\n",
       "      <td>0</td>\n",
       "    </tr>\n",
       "    <tr>\n",
       "      <th>4</th>\n",
       "      <td>3</td>\n",
       "      <td>2</td>\n",
       "      <td>3</td>\n",
       "      <td>3</td>\n",
       "      <td>3</td>\n",
       "      <td>0</td>\n",
       "      <td>0</td>\n",
       "      <td>0</td>\n",
       "      <td>3</td>\n",
       "      <td>0</td>\n",
       "    </tr>\n",
       "    <tr>\n",
       "      <th>...</th>\n",
       "      <td>...</td>\n",
       "      <td>...</td>\n",
       "      <td>...</td>\n",
       "      <td>...</td>\n",
       "      <td>...</td>\n",
       "      <td>...</td>\n",
       "      <td>...</td>\n",
       "      <td>...</td>\n",
       "      <td>...</td>\n",
       "      <td>...</td>\n",
       "    </tr>\n",
       "    <tr>\n",
       "      <th>840</th>\n",
       "      <td>3</td>\n",
       "      <td>3</td>\n",
       "      <td>3</td>\n",
       "      <td>3</td>\n",
       "      <td>3</td>\n",
       "      <td>3</td>\n",
       "      <td>3</td>\n",
       "      <td>0</td>\n",
       "      <td>3</td>\n",
       "      <td>3</td>\n",
       "    </tr>\n",
       "    <tr>\n",
       "      <th>841</th>\n",
       "      <td>3</td>\n",
       "      <td>3</td>\n",
       "      <td>3</td>\n",
       "      <td>3</td>\n",
       "      <td>3</td>\n",
       "      <td>3</td>\n",
       "      <td>3</td>\n",
       "      <td>0</td>\n",
       "      <td>3</td>\n",
       "      <td>3</td>\n",
       "    </tr>\n",
       "    <tr>\n",
       "      <th>842</th>\n",
       "      <td>3</td>\n",
       "      <td>3</td>\n",
       "      <td>3</td>\n",
       "      <td>3</td>\n",
       "      <td>3</td>\n",
       "      <td>3</td>\n",
       "      <td>3</td>\n",
       "      <td>0</td>\n",
       "      <td>3</td>\n",
       "      <td>3</td>\n",
       "    </tr>\n",
       "    <tr>\n",
       "      <th>843</th>\n",
       "      <td>3</td>\n",
       "      <td>3</td>\n",
       "      <td>3</td>\n",
       "      <td>3</td>\n",
       "      <td>3</td>\n",
       "      <td>3</td>\n",
       "      <td>3</td>\n",
       "      <td>0</td>\n",
       "      <td>2</td>\n",
       "      <td>3</td>\n",
       "    </tr>\n",
       "    <tr>\n",
       "      <th>844</th>\n",
       "      <td>3</td>\n",
       "      <td>3</td>\n",
       "      <td>3</td>\n",
       "      <td>3</td>\n",
       "      <td>3</td>\n",
       "      <td>3</td>\n",
       "      <td>3</td>\n",
       "      <td>0</td>\n",
       "      <td>3</td>\n",
       "      <td>3</td>\n",
       "    </tr>\n",
       "  </tbody>\n",
       "</table>\n",
       "<p>845 rows × 10 columns</p>\n",
       "</div>"
      ]
     },
     "execution_count": 83,
     "metadata": {},
     "output_type": "execute_result"
    }
   ],
   "execution_count": 83
  },
  {
   "metadata": {
    "ExecuteTime": {
     "end_time": "2024-07-29T21:12:36.721631Z",
     "start_time": "2024-07-29T21:12:36.686076Z"
    }
   },
   "cell_type": "code",
   "source": [
    "all_model_results_copy = all_model_results.copy()\n",
    "all_model_results_copy['max_count']= all_model_results.apply(lambda row: row.mode().iloc[0], axis=1)\n",
    "all_model_results_copy"
   ],
   "id": "2cd37a8b9ac8dfdf",
   "outputs": [
    {
     "data": {
      "text/plain": [
       "     Efficient_Net_B7  Inception_Resnet_V2  Mobilenet_V2  Mobilenet_V3_Large  \\\n",
       "0                   0                    3             0                   0   \n",
       "1                   0                    0             0                   0   \n",
       "2                   3                    3             3                   3   \n",
       "3                   0                    0             0                   0   \n",
       "4                   3                    2             3                   3   \n",
       "..                ...                  ...           ...                 ...   \n",
       "840                 3                    3             3                   3   \n",
       "841                 3                    3             3                   3   \n",
       "842                 3                    3             3                   3   \n",
       "843                 3                    3             3                   3   \n",
       "844                 3                    3             3                   3   \n",
       "\n",
       "     Inception_Resnet50  Inception_Resnet152  Inception_ResnetRs  XceptionNet  \\\n",
       "0                     0                    0                   0            0   \n",
       "1                     0                    0                   0            0   \n",
       "2                     3                    3                   3            0   \n",
       "3                     0                    0                   0            0   \n",
       "4                     3                    0                   0            0   \n",
       "..                  ...                  ...                 ...          ...   \n",
       "840                   3                    3                   3            0   \n",
       "841                   3                    3                   3            0   \n",
       "842                   3                    3                   3            0   \n",
       "843                   3                    3                   3            0   \n",
       "844                   3                    3                   3            0   \n",
       "\n",
       "     NasnetMobile  True_Preds  max_count  \n",
       "0               3           0          0  \n",
       "1               0           0          0  \n",
       "2               3           0          3  \n",
       "3               0           0          0  \n",
       "4               3           0          3  \n",
       "..            ...         ...        ...  \n",
       "840             3           3          3  \n",
       "841             3           3          3  \n",
       "842             3           3          3  \n",
       "843             2           3          3  \n",
       "844             3           3          3  \n",
       "\n",
       "[845 rows x 11 columns]"
      ],
      "text/html": [
       "<div>\n",
       "<style scoped>\n",
       "    .dataframe tbody tr th:only-of-type {\n",
       "        vertical-align: middle;\n",
       "    }\n",
       "\n",
       "    .dataframe tbody tr th {\n",
       "        vertical-align: top;\n",
       "    }\n",
       "\n",
       "    .dataframe thead th {\n",
       "        text-align: right;\n",
       "    }\n",
       "</style>\n",
       "<table border=\"1\" class=\"dataframe\">\n",
       "  <thead>\n",
       "    <tr style=\"text-align: right;\">\n",
       "      <th></th>\n",
       "      <th>Efficient_Net_B7</th>\n",
       "      <th>Inception_Resnet_V2</th>\n",
       "      <th>Mobilenet_V2</th>\n",
       "      <th>Mobilenet_V3_Large</th>\n",
       "      <th>Inception_Resnet50</th>\n",
       "      <th>Inception_Resnet152</th>\n",
       "      <th>Inception_ResnetRs</th>\n",
       "      <th>XceptionNet</th>\n",
       "      <th>NasnetMobile</th>\n",
       "      <th>True_Preds</th>\n",
       "      <th>max_count</th>\n",
       "    </tr>\n",
       "  </thead>\n",
       "  <tbody>\n",
       "    <tr>\n",
       "      <th>0</th>\n",
       "      <td>0</td>\n",
       "      <td>3</td>\n",
       "      <td>0</td>\n",
       "      <td>0</td>\n",
       "      <td>0</td>\n",
       "      <td>0</td>\n",
       "      <td>0</td>\n",
       "      <td>0</td>\n",
       "      <td>3</td>\n",
       "      <td>0</td>\n",
       "      <td>0</td>\n",
       "    </tr>\n",
       "    <tr>\n",
       "      <th>1</th>\n",
       "      <td>0</td>\n",
       "      <td>0</td>\n",
       "      <td>0</td>\n",
       "      <td>0</td>\n",
       "      <td>0</td>\n",
       "      <td>0</td>\n",
       "      <td>0</td>\n",
       "      <td>0</td>\n",
       "      <td>0</td>\n",
       "      <td>0</td>\n",
       "      <td>0</td>\n",
       "    </tr>\n",
       "    <tr>\n",
       "      <th>2</th>\n",
       "      <td>3</td>\n",
       "      <td>3</td>\n",
       "      <td>3</td>\n",
       "      <td>3</td>\n",
       "      <td>3</td>\n",
       "      <td>3</td>\n",
       "      <td>3</td>\n",
       "      <td>0</td>\n",
       "      <td>3</td>\n",
       "      <td>0</td>\n",
       "      <td>3</td>\n",
       "    </tr>\n",
       "    <tr>\n",
       "      <th>3</th>\n",
       "      <td>0</td>\n",
       "      <td>0</td>\n",
       "      <td>0</td>\n",
       "      <td>0</td>\n",
       "      <td>0</td>\n",
       "      <td>0</td>\n",
       "      <td>0</td>\n",
       "      <td>0</td>\n",
       "      <td>0</td>\n",
       "      <td>0</td>\n",
       "      <td>0</td>\n",
       "    </tr>\n",
       "    <tr>\n",
       "      <th>4</th>\n",
       "      <td>3</td>\n",
       "      <td>2</td>\n",
       "      <td>3</td>\n",
       "      <td>3</td>\n",
       "      <td>3</td>\n",
       "      <td>0</td>\n",
       "      <td>0</td>\n",
       "      <td>0</td>\n",
       "      <td>3</td>\n",
       "      <td>0</td>\n",
       "      <td>3</td>\n",
       "    </tr>\n",
       "    <tr>\n",
       "      <th>...</th>\n",
       "      <td>...</td>\n",
       "      <td>...</td>\n",
       "      <td>...</td>\n",
       "      <td>...</td>\n",
       "      <td>...</td>\n",
       "      <td>...</td>\n",
       "      <td>...</td>\n",
       "      <td>...</td>\n",
       "      <td>...</td>\n",
       "      <td>...</td>\n",
       "      <td>...</td>\n",
       "    </tr>\n",
       "    <tr>\n",
       "      <th>840</th>\n",
       "      <td>3</td>\n",
       "      <td>3</td>\n",
       "      <td>3</td>\n",
       "      <td>3</td>\n",
       "      <td>3</td>\n",
       "      <td>3</td>\n",
       "      <td>3</td>\n",
       "      <td>0</td>\n",
       "      <td>3</td>\n",
       "      <td>3</td>\n",
       "      <td>3</td>\n",
       "    </tr>\n",
       "    <tr>\n",
       "      <th>841</th>\n",
       "      <td>3</td>\n",
       "      <td>3</td>\n",
       "      <td>3</td>\n",
       "      <td>3</td>\n",
       "      <td>3</td>\n",
       "      <td>3</td>\n",
       "      <td>3</td>\n",
       "      <td>0</td>\n",
       "      <td>3</td>\n",
       "      <td>3</td>\n",
       "      <td>3</td>\n",
       "    </tr>\n",
       "    <tr>\n",
       "      <th>842</th>\n",
       "      <td>3</td>\n",
       "      <td>3</td>\n",
       "      <td>3</td>\n",
       "      <td>3</td>\n",
       "      <td>3</td>\n",
       "      <td>3</td>\n",
       "      <td>3</td>\n",
       "      <td>0</td>\n",
       "      <td>3</td>\n",
       "      <td>3</td>\n",
       "      <td>3</td>\n",
       "    </tr>\n",
       "    <tr>\n",
       "      <th>843</th>\n",
       "      <td>3</td>\n",
       "      <td>3</td>\n",
       "      <td>3</td>\n",
       "      <td>3</td>\n",
       "      <td>3</td>\n",
       "      <td>3</td>\n",
       "      <td>3</td>\n",
       "      <td>0</td>\n",
       "      <td>2</td>\n",
       "      <td>3</td>\n",
       "      <td>3</td>\n",
       "    </tr>\n",
       "    <tr>\n",
       "      <th>844</th>\n",
       "      <td>3</td>\n",
       "      <td>3</td>\n",
       "      <td>3</td>\n",
       "      <td>3</td>\n",
       "      <td>3</td>\n",
       "      <td>3</td>\n",
       "      <td>3</td>\n",
       "      <td>0</td>\n",
       "      <td>3</td>\n",
       "      <td>3</td>\n",
       "      <td>3</td>\n",
       "    </tr>\n",
       "  </tbody>\n",
       "</table>\n",
       "<p>845 rows × 11 columns</p>\n",
       "</div>"
      ]
     },
     "execution_count": 84,
     "metadata": {},
     "output_type": "execute_result"
    }
   ],
   "execution_count": 84
  },
  {
   "metadata": {
    "ExecuteTime": {
     "end_time": "2024-07-29T21:15:33.224007Z",
     "start_time": "2024-07-29T21:15:33.221754Z"
    }
   },
   "cell_type": "code",
   "source": "accuracy = (all_model_results_copy[\"True_Preds\"] == all_model_results_copy[\"max_count\"]).sum()/845",
   "id": "9bd60421309ae79a",
   "outputs": [],
   "execution_count": 85
  },
  {
   "metadata": {
    "ExecuteTime": {
     "end_time": "2024-07-29T21:15:35.498596Z",
     "start_time": "2024-07-29T21:15:35.496099Z"
    }
   },
   "cell_type": "code",
   "source": "accuracy",
   "id": "3b733ec5cec27d0e",
   "outputs": [
    {
     "data": {
      "text/plain": [
       "0.9289940828402367"
      ]
     },
     "execution_count": 86,
     "metadata": {},
     "output_type": "execute_result"
    }
   ],
   "execution_count": 86
  },
  {
   "metadata": {
    "ExecuteTime": {
     "end_time": "2024-07-29T21:30:59.816461Z",
     "start_time": "2024-07-29T21:30:59.187470Z"
    }
   },
   "cell_type": "code",
   "source": [
    "import utils\n",
    "\n",
    "utils.confusion_matrix(all_model_results_copy[\"True_Preds\"], all_model_results_copy[\"max_count\"])"
   ],
   "id": "3298a7cb08fd9d4",
   "outputs": [
    {
     "data": {
      "text/plain": [
       "array([[197,   0,   5,   6],\n",
       "       [  0, 220,   0,   0],\n",
       "       [ 10,   0, 163,  29],\n",
       "       [  4,   0,   6, 205]])"
      ]
     },
     "execution_count": 92,
     "metadata": {},
     "output_type": "execute_result"
    }
   ],
   "execution_count": 92
  },
  {
   "metadata": {
    "ExecuteTime": {
     "end_time": "2024-07-29T21:31:35.458945Z",
     "start_time": "2024-07-29T21:31:35.307659Z"
    }
   },
   "cell_type": "code",
   "source": "utils.make_confusion_matrix(all_model_results_copy[\"True_Preds\"], all_model_results_copy[\"max_count\"])",
   "id": "abc710f865f0261d",
   "outputs": [
    {
     "data": {
      "text/plain": [
       "<Figure size 1000x1000 with 2 Axes>"
      ],
      "image/png": "[encoded data removed]"
     },
     "metadata": {},
     "output_type": "display_data"
    }
   ],
   "execution_count": 93
  },
  {
   "metadata": {
    "ExecuteTime": {
     "end_time": "2024-07-29T21:32:27.237104Z",
     "start_time": "2024-07-29T21:32:27.230441Z"
    }
   },
   "cell_type": "code",
   "source": "utils.calc_evaluation_metrics(all_model_results_copy[\"True_Preds\"], all_model_results_copy[\"max_count\"])",
   "id": "9a615a3d198b0a17",
   "outputs": [
    {
     "data": {
      "text/plain": [
       "{'Accuracy': 92.89940828402366,\n",
       " 'Precision': 0.9314494325721965,\n",
       " 'Recall': 0.9314494325721965,\n",
       " 'F1-Score': 0.9283598348109902}"
      ]
     },
     "execution_count": 94,
     "metadata": {},
     "output_type": "execute_result"
    }
   ],
   "execution_count": 94
  }
 ],
 "metadata": {
  "kernelspec": {
   "display_name": "Python 3",
   "language": "python",
   "name": "python3"
  },
  "language_info": {
   "codemirror_mode": {
    "name": "ipython",
    "version": 2
   },
   "file_extension": ".py",
   "mimetype": "text/x-python",
   "name": "python",
   "nbconvert_exporter": "python",
   "pygments_lexer": "ipython2",
   "version": "2.7.6"
  }
 },
 "nbformat": 4,
 "nbformat_minor": 5
}
