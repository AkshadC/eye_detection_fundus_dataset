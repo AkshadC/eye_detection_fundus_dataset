{
 "cells": [
  {
   "cell_type": "code",
   "id": "initial_id",
   "metadata": {
    "collapsed": true,
    "ExecuteTime": {
     "end_time": "2024-07-30T14:08:26.644732Z",
     "start_time": "2024-07-30T14:08:23.582854Z"
    }
   },
   "source": [
    "import pandas as pd\n",
    "import tensorflow as tf\n",
    "import utils\n",
    "\n",
    "preprocess_input_nasnet = tf.keras.applications.nasnet.preprocess_input\n",
    "preprocess_input_resnet = tf.keras.applications.resnet.preprocess_input\n",
    "preprocess_input_xception = tf.keras.applications.xception.preprocess_input\n",
    "preprocess_input_effb7 = tf.keras.applications.efficientnet.preprocess_input\n",
    "preprocess_input_inceptionresnetv2 = tf.keras.applications.inception_resnet_v2.preprocess_input\n",
    "preprocess_input_mobilenetv2 = tf.keras.applications.mobilenet_v2.preprocess_input\n",
    "preprocess_input_mobilenetv3L = tf.keras.applications.mobilenet_v3.preprocess_input\n",
    "preprocess_input_resnetrs = tf.keras.applications.resnet_rs.preprocess_input"
   ],
   "outputs": [
    {
     "name": "stderr",
     "output_type": "stream",
     "text": [
      "2024-07-30 10:08:24.253530: I tensorflow/core/util/port.cc:111] oneDNN custom operations are on. You may see slightly different numerical results due to floating-point round-off errors from different computation orders. To turn them off, set the environment variable `TF_ENABLE_ONEDNN_OPTS=0`.\n",
      "2024-07-30 10:08:24.496223: E tensorflow/compiler/xla/stream_executor/cuda/cuda_dnn.cc:9342] Unable to register cuDNN factory: Attempting to register factory for plugin cuDNN when one has already been registered\n",
      "2024-07-30 10:08:24.496256: E tensorflow/compiler/xla/stream_executor/cuda/cuda_fft.cc:609] Unable to register cuFFT factory: Attempting to register factory for plugin cuFFT when one has already been registered\n",
      "2024-07-30 10:08:24.497471: E tensorflow/compiler/xla/stream_executor/cuda/cuda_blas.cc:1518] Unable to register cuBLAS factory: Attempting to register factory for plugin cuBLAS when one has already been registered\n",
      "2024-07-30 10:08:24.609822: I tensorflow/core/platform/cpu_feature_guard.cc:182] This TensorFlow binary is optimized to use available CPU instructions in performance-critical operations.\n",
      "To enable the following instructions: AVX2 AVX512F AVX512_VNNI AVX512_BF16 FMA, in other operations, rebuild TensorFlow with the appropriate compiler flags.\n",
      "2024-07-30 10:08:25.338019: W tensorflow/compiler/tf2tensorrt/utils/py_utils.cc:38] TF-TRT Warning: Could not find TensorRT\n"
     ]
    }
   ],
   "execution_count": 1
  },
  {
   "metadata": {
    "ExecuteTime": {
     "end_time": "2024-07-30T14:08:27.203130Z",
     "start_time": "2024-07-30T14:08:26.645777Z"
    }
   },
   "cell_type": "code",
   "source": [
    "fundus_train = \"/home/thefilthysalad/PycharmProjects/eye_detection_fundus_dataset/Dataset/split1/train\"\n",
    "fundus_test = \"/home/thefilthysalad/PycharmProjects/eye_detection_fundus_dataset/Dataset/split1/test\"\n",
    "\n",
    "\n",
    "BATCH_SIZE = 32\n",
    "IMG_HEIGHT, IMG_WIDTH = 224,224\n",
    "test_dataset = tf.keras.preprocessing.image_dataset_from_directory(\n",
    "    fundus_test,\n",
    "    labels='inferred',\n",
    "    label_mode='categorical',\n",
    "    batch_size=BATCH_SIZE,\n",
    "    image_size=(IMG_HEIGHT, IMG_WIDTH),\n",
    "    shuffle=False,\n",
    "    seed=123,\n",
    ")\n",
    "IMG_HEIGHT_x, IMG_WIDTH_x = 299,299\n",
    "test_dataset_xception = tf.keras.preprocessing.image_dataset_from_directory(\n",
    "    fundus_test,\n",
    "    labels='inferred',\n",
    "    label_mode='categorical',\n",
    "    batch_size=BATCH_SIZE,\n",
    "    image_size=(IMG_HEIGHT_x, IMG_WIDTH_x),\n",
    "    shuffle=False,\n",
    "    seed=123,\n",
    ")\n",
    "IMG_HEIGHT_mobilenet, IMG_WIDTH_mobilenet = 512,512\n",
    "test_dataset_mobilenet = tf.keras.preprocessing.image_dataset_from_directory(\n",
    "    fundus_test,\n",
    "    labels='inferred',\n",
    "    label_mode='categorical',\n",
    "    batch_size=BATCH_SIZE,\n",
    "    image_size=(IMG_HEIGHT_mobilenet, IMG_WIDTH_mobilenet),\n",
    "    shuffle=False,\n",
    "    seed=123,\n",
    ")"
   ],
   "id": "4ca8dd2222510ce0",
   "outputs": [
    {
     "name": "stdout",
     "output_type": "stream",
     "text": [
      "Found 845 files belonging to 4 classes.\n",
      "Found 845 files belonging to 4 classes.\n",
      "Found 845 files belonging to 4 classes.\n"
     ]
    },
    {
     "name": "stderr",
     "output_type": "stream",
     "text": [
      "2024-07-30 10:08:26.758861: I tensorflow/compiler/xla/stream_executor/cuda/cuda_gpu_executor.cc:894] successful NUMA node read from SysFS had negative value (-1), but there must be at least one NUMA node, so returning NUMA node zero. See more at https://github.com/torvalds/linux/blob/v6.0/Documentation/ABI/testing/sysfs-bus-pci#L344-L355\n",
      "2024-07-30 10:08:26.882058: I tensorflow/compiler/xla/stream_executor/cuda/cuda_gpu_executor.cc:894] successful NUMA node read from SysFS had negative value (-1), but there must be at least one NUMA node, so returning NUMA node zero. See more at https://github.com/torvalds/linux/blob/v6.0/Documentation/ABI/testing/sysfs-bus-pci#L344-L355\n",
      "2024-07-30 10:08:26.884577: I tensorflow/compiler/xla/stream_executor/cuda/cuda_gpu_executor.cc:894] successful NUMA node read from SysFS had negative value (-1), but there must be at least one NUMA node, so returning NUMA node zero. See more at https://github.com/torvalds/linux/blob/v6.0/Documentation/ABI/testing/sysfs-bus-pci#L344-L355\n",
      "2024-07-30 10:08:26.888307: I tensorflow/compiler/xla/stream_executor/cuda/cuda_gpu_executor.cc:894] successful NUMA node read from SysFS had negative value (-1), but there must be at least one NUMA node, so returning NUMA node zero. See more at https://github.com/torvalds/linux/blob/v6.0/Documentation/ABI/testing/sysfs-bus-pci#L344-L355\n",
      "2024-07-30 10:08:26.890174: I tensorflow/compiler/xla/stream_executor/cuda/cuda_gpu_executor.cc:894] successful NUMA node read from SysFS had negative value (-1), but there must be at least one NUMA node, so returning NUMA node zero. See more at https://github.com/torvalds/linux/blob/v6.0/Documentation/ABI/testing/sysfs-bus-pci#L344-L355\n",
      "2024-07-30 10:08:26.891789: I tensorflow/compiler/xla/stream_executor/cuda/cuda_gpu_executor.cc:894] successful NUMA node read from SysFS had negative value (-1), but there must be at least one NUMA node, so returning NUMA node zero. See more at https://github.com/torvalds/linux/blob/v6.0/Documentation/ABI/testing/sysfs-bus-pci#L344-L355\n",
      "2024-07-30 10:08:27.033730: I tensorflow/compiler/xla/stream_executor/cuda/cuda_gpu_executor.cc:894] successful NUMA node read from SysFS had negative value (-1), but there must be at least one NUMA node, so returning NUMA node zero. See more at https://github.com/torvalds/linux/blob/v6.0/Documentation/ABI/testing/sysfs-bus-pci#L344-L355\n",
      "2024-07-30 10:08:27.035448: I tensorflow/compiler/xla/stream_executor/cuda/cuda_gpu_executor.cc:894] successful NUMA node read from SysFS had negative value (-1), but there must be at least one NUMA node, so returning NUMA node zero. See more at https://github.com/torvalds/linux/blob/v6.0/Documentation/ABI/testing/sysfs-bus-pci#L344-L355\n",
      "2024-07-30 10:08:27.036789: I tensorflow/compiler/xla/stream_executor/cuda/cuda_gpu_executor.cc:894] successful NUMA node read from SysFS had negative value (-1), but there must be at least one NUMA node, so returning NUMA node zero. See more at https://github.com/torvalds/linux/blob/v6.0/Documentation/ABI/testing/sysfs-bus-pci#L344-L355\n",
      "2024-07-30 10:08:27.038098: I tensorflow/core/common_runtime/gpu/gpu_device.cc:1886] Created device /job:localhost/replica:0/task:0/device:GPU:0 with 5801 MB memory:  -> device: 0, name: NVIDIA GeForce RTX 4070 Laptop GPU, pci bus id: 0000:01:00.0, compute capability: 8.9\n"
     ]
    }
   ],
   "execution_count": 2
  },
  {
   "metadata": {
    "ExecuteTime": {
     "end_time": "2024-07-30T14:08:27.307603Z",
     "start_time": "2024-07-30T14:08:27.204053Z"
    }
   },
   "cell_type": "code",
   "source": [
    "test_datagen_nasnet = test_dataset.map(lambda x, y: (preprocess_input_nasnet(x), y))\n",
    "test_datagen_resnet = test_dataset.map(lambda x, y: (preprocess_input_resnet(x), y))\n",
    "test_datagen_xception = test_dataset_xception.map(lambda x, y: (preprocess_input_xception(x), y))\n",
    "test_datagen_effb7 = test_dataset.map(lambda x, y: (preprocess_input_effb7(x), y))\n",
    "test_datagen_inceptionresnetv2 = test_dataset_xception.map(lambda x, y: (preprocess_input_inceptionresnetv2(x), y))\n",
    "test_datagen_mobilenetv2 = test_dataset_mobilenet.map(lambda x, y: (preprocess_input_mobilenetv2(x), y))\n",
    "test_datagen_mobilenetv3L = test_dataset.map(lambda x, y: (preprocess_input_mobilenetv3L(x), y))\n",
    "test_datagen_resnetrs = test_dataset.map(lambda x, y: (preprocess_input_resnetrs(x), y))\n",
    "\n",
    "def preprocess_img(image, label, img_size = 224):\n",
    "    image = tf.image.resize(image, [img_size, img_size])\n",
    "    image = tf.cast(image, tf.float32)\n",
    "    return image, label\n",
    "test_datagen_santosh = test_dataset.map(map_func = preprocess_img, num_parallel_calls = tf.data.AUTOTUNE).prefetch(tf.data.AUTOTUNE)\n"
   ],
   "id": "2f653276cb6234e8",
   "outputs": [],
   "execution_count": 3
  },
  {
   "metadata": {
    "ExecuteTime": {
     "end_time": "2024-07-30T14:22:53.034722Z",
     "start_time": "2024-07-30T14:22:53.014649Z"
    }
   },
   "cell_type": "code",
   "source": "test_data_DenseNet_121 = test_dataset.map(lambda x, y: (tf.keras.applications.densenet.preprocess_input(x), y), num_parallel_calls = tf.data.AUTOTUNE).prefetch(tf.data.AUTOTUNE)",
   "id": "c94d12577b9298a5",
   "outputs": [],
   "execution_count": 32
  },
  {
   "metadata": {
    "ExecuteTime": {
     "end_time": "2024-07-30T14:08:27.754620Z",
     "start_time": "2024-07-30T14:08:27.308740Z"
    }
   },
   "cell_type": "code",
   "source": [
    "true_y_labels = []\n",
    "for images, labels in test_datagen_nasnet.unbatch():\n",
    "    true_y_labels.append(labels.numpy().argmax())"
   ],
   "id": "ad56743e150d4338",
   "outputs": [],
   "execution_count": 4
  },
  {
   "metadata": {
    "ExecuteTime": {
     "end_time": "2024-07-30T14:10:22.090745Z",
     "start_time": "2024-07-30T14:10:04.499500Z"
    }
   },
   "cell_type": "code",
   "source": [
    "nasnet_mobile =  tf.keras.models.load_model(\"/home/thefilthysalad/PycharmProjects/eye_detection_fundus_dataset/ML_Models/Trained_Models/CompletedModels/Nasnet_88.99\")\n",
    "nasnet_mobile.evaluate(test_datagen_nasnet)"
   ],
   "id": "40bc164f56f8320b",
   "outputs": [
    {
     "name": "stdout",
     "output_type": "stream",
     "text": [
      "27/27 [==============================] - 4s 49ms/step - loss: 0.4785 - accuracy: 0.8899\n"
     ]
    },
    {
     "data": {
      "text/plain": [
       "[0.4785414934158325, 0.8899408578872681]"
      ]
     },
     "execution_count": 12,
     "metadata": {},
     "output_type": "execute_result"
    }
   ],
   "execution_count": 12
  },
  {
   "metadata": {
    "ExecuteTime": {
     "end_time": "2024-07-30T14:10:25.239853Z",
     "start_time": "2024-07-30T14:10:22.091982Z"
    }
   },
   "cell_type": "code",
   "source": [
    "nasnet_preds = nasnet_mobile.predict(test_datagen_nasnet)\n",
    "nasnet_preds = nasnet_preds.argmax(axis=1)"
   ],
   "id": "a1ef6c276854dd6e",
   "outputs": [
    {
     "name": "stdout",
     "output_type": "stream",
     "text": [
      "27/27 [==============================] - 3s 36ms/step\n"
     ]
    }
   ],
   "execution_count": 13
  },
  {
   "metadata": {
    "ExecuteTime": {
     "end_time": "2024-07-30T14:10:25.242340Z",
     "start_time": "2024-07-30T14:10:25.240636Z"
    }
   },
   "cell_type": "code",
   "source": "nasnet_preds = pd.DataFrame(nasnet_preds)",
   "id": "9a1a1cb8ef6fbaa",
   "outputs": [],
   "execution_count": 14
  },
  {
   "metadata": {
    "ExecuteTime": {
     "end_time": "2024-07-30T14:10:50.723297Z",
     "start_time": "2024-07-30T14:10:25.243114Z"
    }
   },
   "cell_type": "code",
   "source": [
    "effb7_mobile =  tf.keras.models.load_model(\"/home/thefilthysalad/PycharmProjects/eye_detection_fundus_dataset/ML_Models/Trained_Models/CompletedModels/EfficientB7_90.49\")\n",
    "effb7_mobile.evaluate(test_datagen_effb7)"
   ],
   "id": "72d0972a2f0abb70",
   "outputs": [
    {
     "name": "stdout",
     "output_type": "stream",
     "text": [
      "27/27 [==============================] - 7s 156ms/step - loss: 0.3847 - accuracy: 0.9041\n"
     ]
    },
    {
     "data": {
      "text/plain": [
       "[0.3847275972366333, 0.9041420221328735]"
      ]
     },
     "execution_count": 15,
     "metadata": {},
     "output_type": "execute_result"
    }
   ],
   "execution_count": 15
  },
  {
   "metadata": {
    "ExecuteTime": {
     "end_time": "2024-07-30T14:10:56.995747Z",
     "start_time": "2024-07-30T14:10:50.723968Z"
    }
   },
   "cell_type": "code",
   "source": [
    "effb7_preds = effb7_mobile.predict(test_datagen_effb7)\n",
    "effb7_preds = pd.DataFrame(effb7_preds.argmax(axis=1))"
   ],
   "id": "4ea85e7df1cf5bac",
   "outputs": [
    {
     "name": "stdout",
     "output_type": "stream",
     "text": [
      "27/27 [==============================] - 6s 148ms/step\n"
     ]
    }
   ],
   "execution_count": 16
  },
  {
   "metadata": {
    "ExecuteTime": {
     "end_time": "2024-07-30T14:11:16.083484Z",
     "start_time": "2024-07-30T14:10:56.996406Z"
    }
   },
   "cell_type": "code",
   "source": [
    "inception_resnet_v2 =  tf.keras.models.load_model(\"/home/thefilthysalad/PycharmProjects/eye_detection_fundus_dataset/ML_Models/Trained_Models/CompletedModels/InceptionResnetV2_90.65\")\n",
    "inception_resnet_v2.evaluate(test_datagen_inceptionresnetv2)"
   ],
   "id": "bedb8743e7b015e2",
   "outputs": [
    {
     "name": "stdout",
     "output_type": "stream",
     "text": [
      "27/27 [==============================] - 6s 114ms/step - loss: 0.4095 - accuracy: 0.9053\n"
     ]
    },
    {
     "data": {
      "text/plain": [
       "[0.40954694151878357, 0.9053254723548889]"
      ]
     },
     "execution_count": 17,
     "metadata": {},
     "output_type": "execute_result"
    }
   ],
   "execution_count": 17
  },
  {
   "metadata": {
    "ExecuteTime": {
     "end_time": "2024-07-30T14:11:20.014530Z",
     "start_time": "2024-07-30T14:11:16.084265Z"
    }
   },
   "cell_type": "code",
   "source": "inception_resnet_v2_preds = pd.DataFrame(inception_resnet_v2.predict(test_datagen_inceptionresnetv2).argmax(axis=1))",
   "id": "f9e68f2f7a37ec43",
   "outputs": [
    {
     "name": "stdout",
     "output_type": "stream",
     "text": [
      "27/27 [==============================] - 4s 89ms/step\n"
     ]
    }
   ],
   "execution_count": 18
  },
  {
   "metadata": {
    "ExecuteTime": {
     "end_time": "2024-07-30T14:11:26.552184Z",
     "start_time": "2024-07-30T14:11:20.015200Z"
    }
   },
   "cell_type": "code",
   "source": [
    "mobilenetV2 =  tf.keras.models.load_model(\"/home/thefilthysalad/PycharmProjects/eye_detection_fundus_dataset/ML_Models/Trained_Models/CompletedModels/Mobilenetv2_88\")\n",
    "mobilenetV2.evaluate(test_datagen_mobilenetv2)"
   ],
   "id": "5fcc2e67dc040d41",
   "outputs": [
    {
     "name": "stdout",
     "output_type": "stream",
     "text": [
      "27/27 [==============================] - 4s 107ms/step - loss: 0.3032 - accuracy: 0.8793\n"
     ]
    },
    {
     "data": {
      "text/plain": [
       "[0.3031553030014038, 0.8792899250984192]"
      ]
     },
     "execution_count": 19,
     "metadata": {},
     "output_type": "execute_result"
    }
   ],
   "execution_count": 19
  },
  {
   "metadata": {
    "ExecuteTime": {
     "end_time": "2024-07-30T14:11:34.048707Z",
     "start_time": "2024-07-30T14:11:30.827969Z"
    }
   },
   "cell_type": "code",
   "source": "mobilenetV2_preds = pd.DataFrame(mobilenetV2.predict(test_datagen_mobilenetv2).argmax(axis=1))",
   "id": "3711088356fab228",
   "outputs": [
    {
     "name": "stdout",
     "output_type": "stream",
     "text": [
      "27/27 [==============================] - 3s 101ms/step\n"
     ]
    }
   ],
   "execution_count": 20
  },
  {
   "metadata": {
    "ExecuteTime": {
     "end_time": "2024-07-30T14:08:35.576644Z",
     "start_time": "2024-07-30T14:08:28.615242Z"
    }
   },
   "cell_type": "code",
   "source": [
    "mobilenet_v3L =  tf.keras.models.load_model(\"/home/thefilthysalad/PycharmProjects/eye_detection_fundus_dataset/ML_Models/Trained_Models/CompletedModels/MobilenetV3L_87.7\")\n",
    "mobilenet_v3L.evaluate(test_datagen_mobilenetv3L)"
   ],
   "id": "bfc5e2cce795c5cb",
   "outputs": [
    {
     "name": "stdout",
     "output_type": "stream",
     "text": [
      "INFO:tensorflow:Mixed precision compatibility check (mixed_float16): OK\n",
      "Your GPU will likely run quickly with dtype policy mixed_float16 as it has compute capability of at least 7.0. Your GPU: NVIDIA GeForce RTX 4070 Laptop GPU, compute capability 8.9\n"
     ]
    },
    {
     "name": "stderr",
     "output_type": "stream",
     "text": [
      "2024-07-30 10:08:28.674595: I tensorflow/compiler/xla/stream_executor/cuda/cuda_gpu_executor.cc:894] successful NUMA node read from SysFS had negative value (-1), but there must be at least one NUMA node, so returning NUMA node zero. See more at https://github.com/torvalds/linux/blob/v6.0/Documentation/ABI/testing/sysfs-bus-pci#L344-L355\n",
      "2024-07-30 10:08:33.806093: I tensorflow/compiler/xla/stream_executor/cuda/cuda_dnn.cc:442] Loaded cuDNN version 8600\n",
      "2024-07-30 10:08:34.054794: I tensorflow/tsl/platform/default/subprocess.cc:304] Start cannot spawn child process: No such file or directory\n"
     ]
    },
    {
     "name": "stdout",
     "output_type": "stream",
     "text": [
      " 1/27 [>.............................] - ETA: 40s - loss: 0.3991 - accuracy: 0.8438"
     ]
    },
    {
     "name": "stderr",
     "output_type": "stream",
     "text": [
      "2024-07-30 10:08:34.602942: I tensorflow/tsl/platform/default/subprocess.cc:304] Start cannot spawn child process: No such file or directory\n"
     ]
    },
    {
     "name": "stdout",
     "output_type": "stream",
     "text": [
      "27/27 [==============================] - 2s 31ms/step - loss: 0.3690 - accuracy: 0.8769\n"
     ]
    },
    {
     "data": {
      "text/plain": [
       "[0.36895304918289185, 0.8769230842590332]"
      ]
     },
     "execution_count": 6,
     "metadata": {},
     "output_type": "execute_result"
    }
   ],
   "execution_count": 6
  },
  {
   "metadata": {
    "ExecuteTime": {
     "end_time": "2024-07-30T14:08:36.638069Z",
     "start_time": "2024-07-30T14:08:35.577758Z"
    }
   },
   "cell_type": "code",
   "source": "mobilenetV3L_preds = pd.DataFrame(mobilenet_v3L.predict(test_datagen_mobilenetv3L).argmax(axis=1))",
   "id": "c57222e1836e51cb",
   "outputs": [
    {
     "name": "stdout",
     "output_type": "stream",
     "text": [
      "27/27 [==============================] - 1s 20ms/step\n"
     ]
    }
   ],
   "execution_count": 7
  },
  {
   "metadata": {
    "ExecuteTime": {
     "end_time": "2024-07-30T14:09:03.244761Z",
     "start_time": "2024-07-30T14:08:36.638735Z"
    }
   },
   "cell_type": "code",
   "source": [
    "resnet50 =  tf.keras.models.load_model(\"/home/thefilthysalad/PycharmProjects/eye_detection_fundus_dataset/ML_Models/Trained_Models/CompletedModels/Resnet_50_90\")\n",
    "resnet152 =  tf.keras.models.load_model(\"/home/thefilthysalad/PycharmProjects/eye_detection_fundus_dataset/ML_Models/Trained_Models/CompletedModels/Resnet_152_88\")\n",
    "resnet_rs =  tf.keras.models.load_model(\"/home/thefilthysalad/PycharmProjects/eye_detection_fundus_dataset/ML_Models/Trained_Models/CompletedModels/Resnet_rs_101_87\")\n",
    "xception =  tf.keras.models.load_model(\"/home/thefilthysalad/PycharmProjects/eye_detection_fundus_dataset/ML_Models/Trained_Models/CompletedModels/Xception_new_90.41\")\n"
   ],
   "id": "4df4d0d8fd371c34",
   "outputs": [],
   "execution_count": 8
  },
  {
   "metadata": {
    "ExecuteTime": {
     "end_time": "2024-07-30T14:09:17.158492Z",
     "start_time": "2024-07-30T14:09:03.246002Z"
    }
   },
   "cell_type": "code",
   "source": [
    "resnet50_preds = pd.DataFrame(resnet50.predict(test_datagen_resnet).argmax(axis=1))\n",
    "resnet152_preds = pd.DataFrame(resnet152.predict(test_datagen_resnet).argmax(axis=1))\n",
    "resnet_rs_preds = pd.DataFrame(resnet_rs.predict(test_datagen_resnetrs).argmax(axis=1))\n",
    "xception_preds = pd.DataFrame(xception.predict(test_datagen_xception).argmax(axis=1))"
   ],
   "id": "9158a475ffe466fa",
   "outputs": [
    {
     "name": "stdout",
     "output_type": "stream",
     "text": [
      "27/27 [==============================] - 2s 51ms/step\n",
      "27/27 [==============================] - 4s 84ms/step\n",
      "27/27 [==============================] - 4s 84ms/step\n",
      "27/27 [==============================] - 4s 89ms/step\n"
     ]
    }
   ],
   "execution_count": 9
  },
  {
   "metadata": {
    "ExecuteTime": {
     "end_time": "2024-07-30T14:19:57.590328Z",
     "start_time": "2024-07-30T14:19:25.210324Z"
    }
   },
   "cell_type": "code",
   "source": [
    "vgg_19_model = tf.keras.models.load_model(\"/home/thefilthysalad/PycharmProjects/eye_detection_fundus_dataset/5_DL_models/VGG_19_89.35\")\n",
    "vgg_16_model = tf.keras.models.load_model(\"/home/thefilthysalad/PycharmProjects/eye_detection_fundus_dataset/5_DL_models/VGG_16_90.18\")\n",
    "densenet_169 = tf.keras.models.load_model(\"/home/thefilthysalad/PycharmProjects/eye_detection_fundus_dataset/5_DL_models/DenseNet_169_90.41\")\n",
    "densenet_201 = tf.keras.models.load_model(\"/home/thefilthysalad/PycharmProjects/eye_detection_fundus_dataset/5_DL_models/DenseNet_201_91.01\")"
   ],
   "id": "c2628bb5540aa399",
   "outputs": [],
   "execution_count": 29
  },
  {
   "metadata": {
    "ExecuteTime": {
     "end_time": "2024-07-30T14:23:44.277811Z",
     "start_time": "2024-07-30T14:23:32.240428Z"
    }
   },
   "cell_type": "code",
   "source": "densenet_121 = tf.keras.models.load_model(\"/home/thefilthysalad/PycharmProjects/eye_detection_fundus_dataset/5_DL_models/DenseNet_121_88.64\")",
   "id": "285fdba755f6b9fc",
   "outputs": [],
   "execution_count": 34
  },
  {
   "metadata": {
    "ExecuteTime": {
     "end_time": "2024-07-30T14:21:31.570343Z",
     "start_time": "2024-07-30T14:21:13.026538Z"
    }
   },
   "cell_type": "code",
   "source": [
    "vgg_19_preds = pd.DataFrame(vgg_19_model.predict(test_datagen_santosh).argmax(axis=1))\n",
    "densenet201_preds = pd.DataFrame(densenet_201.predict(test_datagen_santosh).argmax(axis=1))\n",
    "densenet169_preds = pd.DataFrame(densenet_169.predict(test_datagen_santosh).argmax(axis=1))\n",
    "vgg16_preds = pd.DataFrame(vgg_16_model.predict(test_datagen_santosh).argmax(axis=1))"
   ],
   "id": "83edf48c0456f5b",
   "outputs": [
    {
     "name": "stdout",
     "output_type": "stream",
     "text": [
      "27/27 [==============================] - 5s 131ms/step\n",
      "27/27 [==============================] - 4s 108ms/step\n",
      "27/27 [==============================] - 3s 85ms/step\n",
      "27/27 [==============================] - 3s 107ms/step\n",
      "27/27 [==============================] - 3s 75ms/step\n"
     ]
    }
   ],
   "execution_count": 30
  },
  {
   "metadata": {
    "ExecuteTime": {
     "end_time": "2024-07-30T14:24:05.823307Z",
     "start_time": "2024-07-30T14:24:03.722253Z"
    }
   },
   "cell_type": "code",
   "source": "densenet121_preds = pd.DataFrame(densenet_121.predict(test_data_DenseNet_121).argmax(axis=1))",
   "id": "c59e81fe601521fd",
   "outputs": [
    {
     "name": "stdout",
     "output_type": "stream",
     "text": [
      "27/27 [==============================] - 2s 75ms/step\n"
     ]
    }
   ],
   "execution_count": 37
  },
  {
   "metadata": {
    "ExecuteTime": {
     "end_time": "2024-07-30T14:24:06.929960Z",
     "start_time": "2024-07-30T14:24:06.916879Z"
    }
   },
   "cell_type": "code",
   "source": [
    "all_model_results = pd.DataFrame()\n",
    "all_model_results[\"Efficient_Net_B7\"] = effb7_preds\n",
    "all_model_results[\"Inception_Resnet_V2\"] = inception_resnet_v2_preds\n",
    "all_model_results[\"Mobilenet_V2\"] = mobilenetV2_preds\n",
    "all_model_results[\"Mobilenet_V3_Large\"] = mobilenetV3L_preds\n",
    "all_model_results[\"Inception_Resnet50\"] = resnet50_preds\n",
    "all_model_results[\"Inception_Resnet152\"] = resnet152_preds\n",
    "all_model_results[\"Inception_ResnetRs\"] = resnet_rs_preds\n",
    "all_model_results[\"XceptionNet\"] = xception_preds\n",
    "all_model_results[\"NasnetMobile\"] = nasnet_preds\n",
    "\n",
    "all_model_results[\"Vgg-19\"] = vgg_19_preds\n",
    "all_model_results[\"Vgg-16\"] = vgg16_preds\n",
    "all_model_results[\"Densenet-121\"] = densenet121_preds\n",
    "all_model_results[\"Densenet-169\"] = densenet169_preds\n",
    "all_model_results[\"Densenet-201\"] = densenet201_preds\n",
    "\n",
    "all_model_results"
   ],
   "id": "703b82ba5d5b5502",
   "outputs": [
    {
     "data": {
      "text/plain": [
       "     Efficient_Net_B7  Inception_Resnet_V2  Mobilenet_V2  Mobilenet_V3_Large  \\\n",
       "0                   0                    3             0                   0   \n",
       "1                   0                    0             0                   0   \n",
       "2                   3                    3             3                   3   \n",
       "3                   0                    0             0                   0   \n",
       "4                   3                    2             3                   3   \n",
       "..                ...                  ...           ...                 ...   \n",
       "840                 3                    3             3                   3   \n",
       "841                 3                    3             3                   3   \n",
       "842                 3                    3             3                   3   \n",
       "843                 3                    3             3                   3   \n",
       "844                 3                    3             3                   3   \n",
       "\n",
       "     Inception_Resnet50  Inception_Resnet152  Inception_ResnetRs  XceptionNet  \\\n",
       "0                     0                    0                   0            0   \n",
       "1                     0                    0                   0            0   \n",
       "2                     3                    3                   3            3   \n",
       "3                     0                    0                   0            0   \n",
       "4                     3                    0                   0            3   \n",
       "..                  ...                  ...                 ...          ...   \n",
       "840                   3                    3                   3            3   \n",
       "841                   3                    3                   3            3   \n",
       "842                   3                    3                   3            3   \n",
       "843                   3                    3                   3            3   \n",
       "844                   3                    3                   3            3   \n",
       "\n",
       "     NasnetMobile  Vgg-19  Vgg-16  Densenet-121  Densenet-169  Densenet-201  \n",
       "0               3       0       0             0             0             0  \n",
       "1               0       0       0             0             0             0  \n",
       "2               3       0       3             3             3             3  \n",
       "3               0       0       0             0             0             0  \n",
       "4               3       0       3             3             3             3  \n",
       "..            ...     ...     ...           ...           ...           ...  \n",
       "840             3       3       3             3             3             3  \n",
       "841             3       3       3             3             3             3  \n",
       "842             3       3       3             3             3             3  \n",
       "843             2       3       3             3             3             3  \n",
       "844             3       3       3             3             3             3  \n",
       "\n",
       "[845 rows x 14 columns]"
      ],
      "text/html": [
       "<div>\n",
       "<style scoped>\n",
       "    .dataframe tbody tr th:only-of-type {\n",
       "        vertical-align: middle;\n",
       "    }\n",
       "\n",
       "    .dataframe tbody tr th {\n",
       "        vertical-align: top;\n",
       "    }\n",
       "\n",
       "    .dataframe thead th {\n",
       "        text-align: right;\n",
       "    }\n",
       "</style>\n",
       "<table border=\"1\" class=\"dataframe\">\n",
       "  <thead>\n",
       "    <tr style=\"text-align: right;\">\n",
       "      <th></th>\n",
       "      <th>Efficient_Net_B7</th>\n",
       "      <th>Inception_Resnet_V2</th>\n",
       "      <th>Mobilenet_V2</th>\n",
       "      <th>Mobilenet_V3_Large</th>\n",
       "      <th>Inception_Resnet50</th>\n",
       "      <th>Inception_Resnet152</th>\n",
       "      <th>Inception_ResnetRs</th>\n",
       "      <th>XceptionNet</th>\n",
       "      <th>NasnetMobile</th>\n",
       "      <th>Vgg-19</th>\n",
       "      <th>Vgg-16</th>\n",
       "      <th>Densenet-121</th>\n",
       "      <th>Densenet-169</th>\n",
       "      <th>Densenet-201</th>\n",
       "    </tr>\n",
       "  </thead>\n",
       "  <tbody>\n",
       "    <tr>\n",
       "      <th>0</th>\n",
       "      <td>0</td>\n",
       "      <td>3</td>\n",
       "      <td>0</td>\n",
       "      <td>0</td>\n",
       "      <td>0</td>\n",
       "      <td>0</td>\n",
       "      <td>0</td>\n",
       "      <td>0</td>\n",
       "      <td>3</td>\n",
       "      <td>0</td>\n",
       "      <td>0</td>\n",
       "      <td>0</td>\n",
       "      <td>0</td>\n",
       "      <td>0</td>\n",
       "    </tr>\n",
       "    <tr>\n",
       "      <th>1</th>\n",
       "      <td>0</td>\n",
       "      <td>0</td>\n",
       "      <td>0</td>\n",
       "      <td>0</td>\n",
       "      <td>0</td>\n",
       "      <td>0</td>\n",
       "      <td>0</td>\n",
       "      <td>0</td>\n",
       "      <td>0</td>\n",
       "      <td>0</td>\n",
       "      <td>0</td>\n",
       "      <td>0</td>\n",
       "      <td>0</td>\n",
       "      <td>0</td>\n",
       "    </tr>\n",
       "    <tr>\n",
       "      <th>2</th>\n",
       "      <td>3</td>\n",
       "      <td>3</td>\n",
       "      <td>3</td>\n",
       "      <td>3</td>\n",
       "      <td>3</td>\n",
       "      <td>3</td>\n",
       "      <td>3</td>\n",
       "      <td>3</td>\n",
       "      <td>3</td>\n",
       "      <td>0</td>\n",
       "      <td>3</td>\n",
       "      <td>3</td>\n",
       "      <td>3</td>\n",
       "      <td>3</td>\n",
       "    </tr>\n",
       "    <tr>\n",
       "      <th>3</th>\n",
       "      <td>0</td>\n",
       "      <td>0</td>\n",
       "      <td>0</td>\n",
       "      <td>0</td>\n",
       "      <td>0</td>\n",
       "      <td>0</td>\n",
       "      <td>0</td>\n",
       "      <td>0</td>\n",
       "      <td>0</td>\n",
       "      <td>0</td>\n",
       "      <td>0</td>\n",
       "      <td>0</td>\n",
       "      <td>0</td>\n",
       "      <td>0</td>\n",
       "    </tr>\n",
       "    <tr>\n",
       "      <th>4</th>\n",
       "      <td>3</td>\n",
       "      <td>2</td>\n",
       "      <td>3</td>\n",
       "      <td>3</td>\n",
       "      <td>3</td>\n",
       "      <td>0</td>\n",
       "      <td>0</td>\n",
       "      <td>3</td>\n",
       "      <td>3</td>\n",
       "      <td>0</td>\n",
       "      <td>3</td>\n",
       "      <td>3</td>\n",
       "      <td>3</td>\n",
       "      <td>3</td>\n",
       "    </tr>\n",
       "    <tr>\n",
       "      <th>...</th>\n",
       "      <td>...</td>\n",
       "      <td>...</td>\n",
       "      <td>...</td>\n",
       "      <td>...</td>\n",
       "      <td>...</td>\n",
       "      <td>...</td>\n",
       "      <td>...</td>\n",
       "      <td>...</td>\n",
       "      <td>...</td>\n",
       "      <td>...</td>\n",
       "      <td>...</td>\n",
       "      <td>...</td>\n",
       "      <td>...</td>\n",
       "      <td>...</td>\n",
       "    </tr>\n",
       "    <tr>\n",
       "      <th>840</th>\n",
       "      <td>3</td>\n",
       "      <td>3</td>\n",
       "      <td>3</td>\n",
       "      <td>3</td>\n",
       "      <td>3</td>\n",
       "      <td>3</td>\n",
       "      <td>3</td>\n",
       "      <td>3</td>\n",
       "      <td>3</td>\n",
       "      <td>3</td>\n",
       "      <td>3</td>\n",
       "      <td>3</td>\n",
       "      <td>3</td>\n",
       "      <td>3</td>\n",
       "    </tr>\n",
       "    <tr>\n",
       "      <th>841</th>\n",
       "      <td>3</td>\n",
       "      <td>3</td>\n",
       "      <td>3</td>\n",
       "      <td>3</td>\n",
       "      <td>3</td>\n",
       "      <td>3</td>\n",
       "      <td>3</td>\n",
       "      <td>3</td>\n",
       "      <td>3</td>\n",
       "      <td>3</td>\n",
       "      <td>3</td>\n",
       "      <td>3</td>\n",
       "      <td>3</td>\n",
       "      <td>3</td>\n",
       "    </tr>\n",
       "    <tr>\n",
       "      <th>842</th>\n",
       "      <td>3</td>\n",
       "      <td>3</td>\n",
       "      <td>3</td>\n",
       "      <td>3</td>\n",
       "      <td>3</td>\n",
       "      <td>3</td>\n",
       "      <td>3</td>\n",
       "      <td>3</td>\n",
       "      <td>3</td>\n",
       "      <td>3</td>\n",
       "      <td>3</td>\n",
       "      <td>3</td>\n",
       "      <td>3</td>\n",
       "      <td>3</td>\n",
       "    </tr>\n",
       "    <tr>\n",
       "      <th>843</th>\n",
       "      <td>3</td>\n",
       "      <td>3</td>\n",
       "      <td>3</td>\n",
       "      <td>3</td>\n",
       "      <td>3</td>\n",
       "      <td>3</td>\n",
       "      <td>3</td>\n",
       "      <td>3</td>\n",
       "      <td>2</td>\n",
       "      <td>3</td>\n",
       "      <td>3</td>\n",
       "      <td>3</td>\n",
       "      <td>3</td>\n",
       "      <td>3</td>\n",
       "    </tr>\n",
       "    <tr>\n",
       "      <th>844</th>\n",
       "      <td>3</td>\n",
       "      <td>3</td>\n",
       "      <td>3</td>\n",
       "      <td>3</td>\n",
       "      <td>3</td>\n",
       "      <td>3</td>\n",
       "      <td>3</td>\n",
       "      <td>3</td>\n",
       "      <td>3</td>\n",
       "      <td>3</td>\n",
       "      <td>3</td>\n",
       "      <td>3</td>\n",
       "      <td>3</td>\n",
       "      <td>3</td>\n",
       "    </tr>\n",
       "  </tbody>\n",
       "</table>\n",
       "<p>845 rows × 14 columns</p>\n",
       "</div>"
      ]
     },
     "execution_count": 38,
     "metadata": {},
     "output_type": "execute_result"
    }
   ],
   "execution_count": 38
  },
  {
   "metadata": {
    "ExecuteTime": {
     "end_time": "2024-07-30T14:24:13.704926Z",
     "start_time": "2024-07-30T14:24:13.692880Z"
    }
   },
   "cell_type": "code",
   "source": [
    "all_model_results[\"True_Preds\"] = pd.DataFrame(true_y_labels)\n",
    "all_model_results"
   ],
   "id": "bc23d55cc2d163ad",
   "outputs": [
    {
     "data": {
      "text/plain": [
       "     Efficient_Net_B7  Inception_Resnet_V2  Mobilenet_V2  Mobilenet_V3_Large  \\\n",
       "0                   0                    3             0                   0   \n",
       "1                   0                    0             0                   0   \n",
       "2                   3                    3             3                   3   \n",
       "3                   0                    0             0                   0   \n",
       "4                   3                    2             3                   3   \n",
       "..                ...                  ...           ...                 ...   \n",
       "840                 3                    3             3                   3   \n",
       "841                 3                    3             3                   3   \n",
       "842                 3                    3             3                   3   \n",
       "843                 3                    3             3                   3   \n",
       "844                 3                    3             3                   3   \n",
       "\n",
       "     Inception_Resnet50  Inception_Resnet152  Inception_ResnetRs  XceptionNet  \\\n",
       "0                     0                    0                   0            0   \n",
       "1                     0                    0                   0            0   \n",
       "2                     3                    3                   3            3   \n",
       "3                     0                    0                   0            0   \n",
       "4                     3                    0                   0            3   \n",
       "..                  ...                  ...                 ...          ...   \n",
       "840                   3                    3                   3            3   \n",
       "841                   3                    3                   3            3   \n",
       "842                   3                    3                   3            3   \n",
       "843                   3                    3                   3            3   \n",
       "844                   3                    3                   3            3   \n",
       "\n",
       "     NasnetMobile  Vgg-19  Vgg-16  Densenet-121  Densenet-169  Densenet-201  \\\n",
       "0               3       0       0             0             0             0   \n",
       "1               0       0       0             0             0             0   \n",
       "2               3       0       3             3             3             3   \n",
       "3               0       0       0             0             0             0   \n",
       "4               3       0       3             3             3             3   \n",
       "..            ...     ...     ...           ...           ...           ...   \n",
       "840             3       3       3             3             3             3   \n",
       "841             3       3       3             3             3             3   \n",
       "842             3       3       3             3             3             3   \n",
       "843             2       3       3             3             3             3   \n",
       "844             3       3       3             3             3             3   \n",
       "\n",
       "     True_Preds  \n",
       "0             0  \n",
       "1             0  \n",
       "2             0  \n",
       "3             0  \n",
       "4             0  \n",
       "..          ...  \n",
       "840           3  \n",
       "841           3  \n",
       "842           3  \n",
       "843           3  \n",
       "844           3  \n",
       "\n",
       "[845 rows x 15 columns]"
      ],
      "text/html": [
       "<div>\n",
       "<style scoped>\n",
       "    .dataframe tbody tr th:only-of-type {\n",
       "        vertical-align: middle;\n",
       "    }\n",
       "\n",
       "    .dataframe tbody tr th {\n",
       "        vertical-align: top;\n",
       "    }\n",
       "\n",
       "    .dataframe thead th {\n",
       "        text-align: right;\n",
       "    }\n",
       "</style>\n",
       "<table border=\"1\" class=\"dataframe\">\n",
       "  <thead>\n",
       "    <tr style=\"text-align: right;\">\n",
       "      <th></th>\n",
       "      <th>Efficient_Net_B7</th>\n",
       "      <th>Inception_Resnet_V2</th>\n",
       "      <th>Mobilenet_V2</th>\n",
       "      <th>Mobilenet_V3_Large</th>\n",
       "      <th>Inception_Resnet50</th>\n",
       "      <th>Inception_Resnet152</th>\n",
       "      <th>Inception_ResnetRs</th>\n",
       "      <th>XceptionNet</th>\n",
       "      <th>NasnetMobile</th>\n",
       "      <th>Vgg-19</th>\n",
       "      <th>Vgg-16</th>\n",
       "      <th>Densenet-121</th>\n",
       "      <th>Densenet-169</th>\n",
       "      <th>Densenet-201</th>\n",
       "      <th>True_Preds</th>\n",
       "    </tr>\n",
       "  </thead>\n",
       "  <tbody>\n",
       "    <tr>\n",
       "      <th>0</th>\n",
       "      <td>0</td>\n",
       "      <td>3</td>\n",
       "      <td>0</td>\n",
       "      <td>0</td>\n",
       "      <td>0</td>\n",
       "      <td>0</td>\n",
       "      <td>0</td>\n",
       "      <td>0</td>\n",
       "      <td>3</td>\n",
       "      <td>0</td>\n",
       "      <td>0</td>\n",
       "      <td>0</td>\n",
       "      <td>0</td>\n",
       "      <td>0</td>\n",
       "      <td>0</td>\n",
       "    </tr>\n",
       "    <tr>\n",
       "      <th>1</th>\n",
       "      <td>0</td>\n",
       "      <td>0</td>\n",
       "      <td>0</td>\n",
       "      <td>0</td>\n",
       "      <td>0</td>\n",
       "      <td>0</td>\n",
       "      <td>0</td>\n",
       "      <td>0</td>\n",
       "      <td>0</td>\n",
       "      <td>0</td>\n",
       "      <td>0</td>\n",
       "      <td>0</td>\n",
       "      <td>0</td>\n",
       "      <td>0</td>\n",
       "      <td>0</td>\n",
       "    </tr>\n",
       "    <tr>\n",
       "      <th>2</th>\n",
       "      <td>3</td>\n",
       "      <td>3</td>\n",
       "      <td>3</td>\n",
       "      <td>3</td>\n",
       "      <td>3</td>\n",
       "      <td>3</td>\n",
       "      <td>3</td>\n",
       "      <td>3</td>\n",
       "      <td>3</td>\n",
       "      <td>0</td>\n",
       "      <td>3</td>\n",
       "      <td>3</td>\n",
       "      <td>3</td>\n",
       "      <td>3</td>\n",
       "      <td>0</td>\n",
       "    </tr>\n",
       "    <tr>\n",
       "      <th>3</th>\n",
       "      <td>0</td>\n",
       "      <td>0</td>\n",
       "      <td>0</td>\n",
       "      <td>0</td>\n",
       "      <td>0</td>\n",
       "      <td>0</td>\n",
       "      <td>0</td>\n",
       "      <td>0</td>\n",
       "      <td>0</td>\n",
       "      <td>0</td>\n",
       "      <td>0</td>\n",
       "      <td>0</td>\n",
       "      <td>0</td>\n",
       "      <td>0</td>\n",
       "      <td>0</td>\n",
       "    </tr>\n",
       "    <tr>\n",
       "      <th>4</th>\n",
       "      <td>3</td>\n",
       "      <td>2</td>\n",
       "      <td>3</td>\n",
       "      <td>3</td>\n",
       "      <td>3</td>\n",
       "      <td>0</td>\n",
       "      <td>0</td>\n",
       "      <td>3</td>\n",
       "      <td>3</td>\n",
       "      <td>0</td>\n",
       "      <td>3</td>\n",
       "      <td>3</td>\n",
       "      <td>3</td>\n",
       "      <td>3</td>\n",
       "      <td>0</td>\n",
       "    </tr>\n",
       "    <tr>\n",
       "      <th>...</th>\n",
       "      <td>...</td>\n",
       "      <td>...</td>\n",
       "      <td>...</td>\n",
       "      <td>...</td>\n",
       "      <td>...</td>\n",
       "      <td>...</td>\n",
       "      <td>...</td>\n",
       "      <td>...</td>\n",
       "      <td>...</td>\n",
       "      <td>...</td>\n",
       "      <td>...</td>\n",
       "      <td>...</td>\n",
       "      <td>...</td>\n",
       "      <td>...</td>\n",
       "      <td>...</td>\n",
       "    </tr>\n",
       "    <tr>\n",
       "      <th>840</th>\n",
       "      <td>3</td>\n",
       "      <td>3</td>\n",
       "      <td>3</td>\n",
       "      <td>3</td>\n",
       "      <td>3</td>\n",
       "      <td>3</td>\n",
       "      <td>3</td>\n",
       "      <td>3</td>\n",
       "      <td>3</td>\n",
       "      <td>3</td>\n",
       "      <td>3</td>\n",
       "      <td>3</td>\n",
       "      <td>3</td>\n",
       "      <td>3</td>\n",
       "      <td>3</td>\n",
       "    </tr>\n",
       "    <tr>\n",
       "      <th>841</th>\n",
       "      <td>3</td>\n",
       "      <td>3</td>\n",
       "      <td>3</td>\n",
       "      <td>3</td>\n",
       "      <td>3</td>\n",
       "      <td>3</td>\n",
       "      <td>3</td>\n",
       "      <td>3</td>\n",
       "      <td>3</td>\n",
       "      <td>3</td>\n",
       "      <td>3</td>\n",
       "      <td>3</td>\n",
       "      <td>3</td>\n",
       "      <td>3</td>\n",
       "      <td>3</td>\n",
       "    </tr>\n",
       "    <tr>\n",
       "      <th>842</th>\n",
       "      <td>3</td>\n",
       "      <td>3</td>\n",
       "      <td>3</td>\n",
       "      <td>3</td>\n",
       "      <td>3</td>\n",
       "      <td>3</td>\n",
       "      <td>3</td>\n",
       "      <td>3</td>\n",
       "      <td>3</td>\n",
       "      <td>3</td>\n",
       "      <td>3</td>\n",
       "      <td>3</td>\n",
       "      <td>3</td>\n",
       "      <td>3</td>\n",
       "      <td>3</td>\n",
       "    </tr>\n",
       "    <tr>\n",
       "      <th>843</th>\n",
       "      <td>3</td>\n",
       "      <td>3</td>\n",
       "      <td>3</td>\n",
       "      <td>3</td>\n",
       "      <td>3</td>\n",
       "      <td>3</td>\n",
       "      <td>3</td>\n",
       "      <td>3</td>\n",
       "      <td>2</td>\n",
       "      <td>3</td>\n",
       "      <td>3</td>\n",
       "      <td>3</td>\n",
       "      <td>3</td>\n",
       "      <td>3</td>\n",
       "      <td>3</td>\n",
       "    </tr>\n",
       "    <tr>\n",
       "      <th>844</th>\n",
       "      <td>3</td>\n",
       "      <td>3</td>\n",
       "      <td>3</td>\n",
       "      <td>3</td>\n",
       "      <td>3</td>\n",
       "      <td>3</td>\n",
       "      <td>3</td>\n",
       "      <td>3</td>\n",
       "      <td>3</td>\n",
       "      <td>3</td>\n",
       "      <td>3</td>\n",
       "      <td>3</td>\n",
       "      <td>3</td>\n",
       "      <td>3</td>\n",
       "      <td>3</td>\n",
       "    </tr>\n",
       "  </tbody>\n",
       "</table>\n",
       "<p>845 rows × 15 columns</p>\n",
       "</div>"
      ]
     },
     "execution_count": 39,
     "metadata": {},
     "output_type": "execute_result"
    }
   ],
   "execution_count": 39
  },
  {
   "metadata": {
    "ExecuteTime": {
     "end_time": "2024-07-30T14:24:13.987556Z",
     "start_time": "2024-07-30T14:24:13.951238Z"
    }
   },
   "cell_type": "code",
   "source": [
    "all_model_results_copy = all_model_results.copy()\n",
    "all_model_results_copy['max_count']= all_model_results.apply(lambda row: row.mode().iloc[0], axis=1)\n",
    "all_model_results_copy"
   ],
   "id": "2cd37a8b9ac8dfdf",
   "outputs": [
    {
     "data": {
      "text/plain": [
       "     Efficient_Net_B7  Inception_Resnet_V2  Mobilenet_V2  Mobilenet_V3_Large  \\\n",
       "0                   0                    3             0                   0   \n",
       "1                   0                    0             0                   0   \n",
       "2                   3                    3             3                   3   \n",
       "3                   0                    0             0                   0   \n",
       "4                   3                    2             3                   3   \n",
       "..                ...                  ...           ...                 ...   \n",
       "840                 3                    3             3                   3   \n",
       "841                 3                    3             3                   3   \n",
       "842                 3                    3             3                   3   \n",
       "843                 3                    3             3                   3   \n",
       "844                 3                    3             3                   3   \n",
       "\n",
       "     Inception_Resnet50  Inception_Resnet152  Inception_ResnetRs  XceptionNet  \\\n",
       "0                     0                    0                   0            0   \n",
       "1                     0                    0                   0            0   \n",
       "2                     3                    3                   3            3   \n",
       "3                     0                    0                   0            0   \n",
       "4                     3                    0                   0            3   \n",
       "..                  ...                  ...                 ...          ...   \n",
       "840                   3                    3                   3            3   \n",
       "841                   3                    3                   3            3   \n",
       "842                   3                    3                   3            3   \n",
       "843                   3                    3                   3            3   \n",
       "844                   3                    3                   3            3   \n",
       "\n",
       "     NasnetMobile  Vgg-19  Vgg-16  Densenet-121  Densenet-169  Densenet-201  \\\n",
       "0               3       0       0             0             0             0   \n",
       "1               0       0       0             0             0             0   \n",
       "2               3       0       3             3             3             3   \n",
       "3               0       0       0             0             0             0   \n",
       "4               3       0       3             3             3             3   \n",
       "..            ...     ...     ...           ...           ...           ...   \n",
       "840             3       3       3             3             3             3   \n",
       "841             3       3       3             3             3             3   \n",
       "842             3       3       3             3             3             3   \n",
       "843             2       3       3             3             3             3   \n",
       "844             3       3       3             3             3             3   \n",
       "\n",
       "     True_Preds  max_count  \n",
       "0             0          0  \n",
       "1             0          0  \n",
       "2             0          3  \n",
       "3             0          0  \n",
       "4             0          3  \n",
       "..          ...        ...  \n",
       "840           3          3  \n",
       "841           3          3  \n",
       "842           3          3  \n",
       "843           3          3  \n",
       "844           3          3  \n",
       "\n",
       "[845 rows x 16 columns]"
      ],
      "text/html": [
       "<div>\n",
       "<style scoped>\n",
       "    .dataframe tbody tr th:only-of-type {\n",
       "        vertical-align: middle;\n",
       "    }\n",
       "\n",
       "    .dataframe tbody tr th {\n",
       "        vertical-align: top;\n",
       "    }\n",
       "\n",
       "    .dataframe thead th {\n",
       "        text-align: right;\n",
       "    }\n",
       "</style>\n",
       "<table border=\"1\" class=\"dataframe\">\n",
       "  <thead>\n",
       "    <tr style=\"text-align: right;\">\n",
       "      <th></th>\n",
       "      <th>Efficient_Net_B7</th>\n",
       "      <th>Inception_Resnet_V2</th>\n",
       "      <th>Mobilenet_V2</th>\n",
       "      <th>Mobilenet_V3_Large</th>\n",
       "      <th>Inception_Resnet50</th>\n",
       "      <th>Inception_Resnet152</th>\n",
       "      <th>Inception_ResnetRs</th>\n",
       "      <th>XceptionNet</th>\n",
       "      <th>NasnetMobile</th>\n",
       "      <th>Vgg-19</th>\n",
       "      <th>Vgg-16</th>\n",
       "      <th>Densenet-121</th>\n",
       "      <th>Densenet-169</th>\n",
       "      <th>Densenet-201</th>\n",
       "      <th>True_Preds</th>\n",
       "      <th>max_count</th>\n",
       "    </tr>\n",
       "  </thead>\n",
       "  <tbody>\n",
       "    <tr>\n",
       "      <th>0</th>\n",
       "      <td>0</td>\n",
       "      <td>3</td>\n",
       "      <td>0</td>\n",
       "      <td>0</td>\n",
       "      <td>0</td>\n",
       "      <td>0</td>\n",
       "      <td>0</td>\n",
       "      <td>0</td>\n",
       "      <td>3</td>\n",
       "      <td>0</td>\n",
       "      <td>0</td>\n",
       "      <td>0</td>\n",
       "      <td>0</td>\n",
       "      <td>0</td>\n",
       "      <td>0</td>\n",
       "      <td>0</td>\n",
       "    </tr>\n",
       "    <tr>\n",
       "      <th>1</th>\n",
       "      <td>0</td>\n",
       "      <td>0</td>\n",
       "      <td>0</td>\n",
       "      <td>0</td>\n",
       "      <td>0</td>\n",
       "      <td>0</td>\n",
       "      <td>0</td>\n",
       "      <td>0</td>\n",
       "      <td>0</td>\n",
       "      <td>0</td>\n",
       "      <td>0</td>\n",
       "      <td>0</td>\n",
       "      <td>0</td>\n",
       "      <td>0</td>\n",
       "      <td>0</td>\n",
       "      <td>0</td>\n",
       "    </tr>\n",
       "    <tr>\n",
       "      <th>2</th>\n",
       "      <td>3</td>\n",
       "      <td>3</td>\n",
       "      <td>3</td>\n",
       "      <td>3</td>\n",
       "      <td>3</td>\n",
       "      <td>3</td>\n",
       "      <td>3</td>\n",
       "      <td>3</td>\n",
       "      <td>3</td>\n",
       "      <td>0</td>\n",
       "      <td>3</td>\n",
       "      <td>3</td>\n",
       "      <td>3</td>\n",
       "      <td>3</td>\n",
       "      <td>0</td>\n",
       "      <td>3</td>\n",
       "    </tr>\n",
       "    <tr>\n",
       "      <th>3</th>\n",
       "      <td>0</td>\n",
       "      <td>0</td>\n",
       "      <td>0</td>\n",
       "      <td>0</td>\n",
       "      <td>0</td>\n",
       "      <td>0</td>\n",
       "      <td>0</td>\n",
       "      <td>0</td>\n",
       "      <td>0</td>\n",
       "      <td>0</td>\n",
       "      <td>0</td>\n",
       "      <td>0</td>\n",
       "      <td>0</td>\n",
       "      <td>0</td>\n",
       "      <td>0</td>\n",
       "      <td>0</td>\n",
       "    </tr>\n",
       "    <tr>\n",
       "      <th>4</th>\n",
       "      <td>3</td>\n",
       "      <td>2</td>\n",
       "      <td>3</td>\n",
       "      <td>3</td>\n",
       "      <td>3</td>\n",
       "      <td>0</td>\n",
       "      <td>0</td>\n",
       "      <td>3</td>\n",
       "      <td>3</td>\n",
       "      <td>0</td>\n",
       "      <td>3</td>\n",
       "      <td>3</td>\n",
       "      <td>3</td>\n",
       "      <td>3</td>\n",
       "      <td>0</td>\n",
       "      <td>3</td>\n",
       "    </tr>\n",
       "    <tr>\n",
       "      <th>...</th>\n",
       "      <td>...</td>\n",
       "      <td>...</td>\n",
       "      <td>...</td>\n",
       "      <td>...</td>\n",
       "      <td>...</td>\n",
       "      <td>...</td>\n",
       "      <td>...</td>\n",
       "      <td>...</td>\n",
       "      <td>...</td>\n",
       "      <td>...</td>\n",
       "      <td>...</td>\n",
       "      <td>...</td>\n",
       "      <td>...</td>\n",
       "      <td>...</td>\n",
       "      <td>...</td>\n",
       "      <td>...</td>\n",
       "    </tr>\n",
       "    <tr>\n",
       "      <th>840</th>\n",
       "      <td>3</td>\n",
       "      <td>3</td>\n",
       "      <td>3</td>\n",
       "      <td>3</td>\n",
       "      <td>3</td>\n",
       "      <td>3</td>\n",
       "      <td>3</td>\n",
       "      <td>3</td>\n",
       "      <td>3</td>\n",
       "      <td>3</td>\n",
       "      <td>3</td>\n",
       "      <td>3</td>\n",
       "      <td>3</td>\n",
       "      <td>3</td>\n",
       "      <td>3</td>\n",
       "      <td>3</td>\n",
       "    </tr>\n",
       "    <tr>\n",
       "      <th>841</th>\n",
       "      <td>3</td>\n",
       "      <td>3</td>\n",
       "      <td>3</td>\n",
       "      <td>3</td>\n",
       "      <td>3</td>\n",
       "      <td>3</td>\n",
       "      <td>3</td>\n",
       "      <td>3</td>\n",
       "      <td>3</td>\n",
       "      <td>3</td>\n",
       "      <td>3</td>\n",
       "      <td>3</td>\n",
       "      <td>3</td>\n",
       "      <td>3</td>\n",
       "      <td>3</td>\n",
       "      <td>3</td>\n",
       "    </tr>\n",
       "    <tr>\n",
       "      <th>842</th>\n",
       "      <td>3</td>\n",
       "      <td>3</td>\n",
       "      <td>3</td>\n",
       "      <td>3</td>\n",
       "      <td>3</td>\n",
       "      <td>3</td>\n",
       "      <td>3</td>\n",
       "      <td>3</td>\n",
       "      <td>3</td>\n",
       "      <td>3</td>\n",
       "      <td>3</td>\n",
       "      <td>3</td>\n",
       "      <td>3</td>\n",
       "      <td>3</td>\n",
       "      <td>3</td>\n",
       "      <td>3</td>\n",
       "    </tr>\n",
       "    <tr>\n",
       "      <th>843</th>\n",
       "      <td>3</td>\n",
       "      <td>3</td>\n",
       "      <td>3</td>\n",
       "      <td>3</td>\n",
       "      <td>3</td>\n",
       "      <td>3</td>\n",
       "      <td>3</td>\n",
       "      <td>3</td>\n",
       "      <td>2</td>\n",
       "      <td>3</td>\n",
       "      <td>3</td>\n",
       "      <td>3</td>\n",
       "      <td>3</td>\n",
       "      <td>3</td>\n",
       "      <td>3</td>\n",
       "      <td>3</td>\n",
       "    </tr>\n",
       "    <tr>\n",
       "      <th>844</th>\n",
       "      <td>3</td>\n",
       "      <td>3</td>\n",
       "      <td>3</td>\n",
       "      <td>3</td>\n",
       "      <td>3</td>\n",
       "      <td>3</td>\n",
       "      <td>3</td>\n",
       "      <td>3</td>\n",
       "      <td>3</td>\n",
       "      <td>3</td>\n",
       "      <td>3</td>\n",
       "      <td>3</td>\n",
       "      <td>3</td>\n",
       "      <td>3</td>\n",
       "      <td>3</td>\n",
       "      <td>3</td>\n",
       "    </tr>\n",
       "  </tbody>\n",
       "</table>\n",
       "<p>845 rows × 16 columns</p>\n",
       "</div>"
      ]
     },
     "execution_count": 40,
     "metadata": {},
     "output_type": "execute_result"
    }
   ],
   "execution_count": 40
  },
  {
   "metadata": {
    "ExecuteTime": {
     "end_time": "2024-07-30T14:24:14.861561Z",
     "start_time": "2024-07-30T14:24:14.855092Z"
    }
   },
   "cell_type": "code",
   "source": "accuracy = (all_model_results_copy[\"True_Preds\"] == all_model_results_copy[\"max_count\"]).sum()/845",
   "id": "9bd60421309ae79a",
   "outputs": [],
   "execution_count": 41
  },
  {
   "metadata": {
    "ExecuteTime": {
     "end_time": "2024-07-30T14:24:17.243028Z",
     "start_time": "2024-07-30T14:24:17.239463Z"
    }
   },
   "cell_type": "code",
   "source": "accuracy",
   "id": "3b733ec5cec27d0e",
   "outputs": [
    {
     "data": {
      "text/plain": [
       "0.9313609467455621"
      ]
     },
     "execution_count": 42,
     "metadata": {},
     "output_type": "execute_result"
    }
   ],
   "execution_count": 42
  },
  {
   "metadata": {
    "ExecuteTime": {
     "end_time": "2024-07-30T14:24:19.863229Z",
     "start_time": "2024-07-30T14:24:19.855726Z"
    }
   },
   "cell_type": "code",
   "source": [
    "import utils\n",
    "\n",
    "utils.confusion_matrix(all_model_results_copy[\"True_Preds\"], all_model_results_copy[\"max_count\"])"
   ],
   "id": "3298a7cb08fd9d4",
   "outputs": [
    {
     "data": {
      "text/plain": [
       "array([[196,   0,   5,   7],\n",
       "       [  0, 220,   0,   0],\n",
       "       [ 10,   0, 164,  28],\n",
       "       [  3,   0,   5, 207]])"
      ]
     },
     "execution_count": 43,
     "metadata": {},
     "output_type": "execute_result"
    }
   ],
   "execution_count": 43
  },
  {
   "metadata": {
    "ExecuteTime": {
     "end_time": "2024-07-30T14:24:20.575179Z",
     "start_time": "2024-07-30T14:24:20.430886Z"
    }
   },
   "cell_type": "code",
   "source": "utils.make_confusion_matrix(all_model_results_copy[\"True_Preds\"], all_model_results_copy[\"max_count\"])",
   "id": "abc710f865f0261d",
   "outputs": [
    {
     "data": {
      "text/plain": [
       "<Figure size 1000x1000 with 2 Axes>"
      ],
      "image/png": "[encoded data removed]"
     },
     "metadata": {},
     "output_type": "display_data"
    }
   ],
   "execution_count": 44
  },
  {
   "metadata": {
    "ExecuteTime": {
     "end_time": "2024-07-30T14:24:22.979715Z",
     "start_time": "2024-07-30T14:24:22.969459Z"
    }
   },
   "cell_type": "code",
   "source": "utils.calc_evaluation_metrics(all_model_results_copy[\"True_Preds\"], all_model_results_copy[\"max_count\"])",
   "id": "9a615a3d198b0a17",
   "outputs": [
    {
     "data": {
      "text/plain": [
       "{'Accuracy': 93.13609467455622,\n",
       " 'Precision': 0.9341514369613312,\n",
       " 'Recall': 0.9341514369613312,\n",
       " 'F1-Score': 0.9307845948838465}"
      ]
     },
     "execution_count": 45,
     "metadata": {},
     "output_type": "execute_result"
    }
   ],
   "execution_count": 45
  },
  {
   "metadata": {
    "ExecuteTime": {
     "end_time": "2024-07-30T14:27:53.210860Z",
     "start_time": "2024-07-30T14:27:53.206357Z"
    }
   },
   "cell_type": "code",
   "source": "all_model_results_copy.to_csv(\"FinalModelResults_TrueLabels.csv\")",
   "id": "ee17b738af1927ec",
   "outputs": [],
   "execution_count": 47
  }
 ],
 "metadata": {
  "kernelspec": {
   "display_name": "Python 3",
   "language": "python",
   "name": "python3"
  },
  "language_info": {
   "codemirror_mode": {
    "name": "ipython",
    "version": 2
   },
   "file_extension": ".py",
   "mimetype": "text/x-python",
   "name": "python",
   "nbconvert_exporter": "python",
   "pygments_lexer": "ipython2",
   "version": "2.7.6"
  }
 },
 "nbformat": 4,
 "nbformat_minor": 5
}
